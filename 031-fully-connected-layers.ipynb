{
 "cells": [
  {
   "cell_type": "markdown",
   "metadata": {},
   "source": [
    "# FASHION-MNIST dataset  -- Classification using neural network with fully connected layers"
   ]
  },
  {
   "cell_type": "code",
   "execution_count": 2,
   "metadata": {},
   "outputs": [],
   "source": [
    "import numpy as np\n",
    "import torch\n",
    "from torch import nn\n",
    "from torch import optim\n",
    "import torch.nn.functional as F\n",
    "# import torchsummary\n",
    "import torchvision\n",
    "import matplotlib.pyplot as plt"
   ]
  },
  {
   "cell_type": "code",
   "execution_count": 3,
   "metadata": {},
   "outputs": [],
   "source": [
    "# Device configuration\n",
    "device = torch.device('cuda' if torch.cuda.is_available() else 'cpu')"
   ]
  },
  {
   "cell_type": "markdown",
   "metadata": {},
   "source": [
    "## Data Loading, Preprocessing and Exploration"
   ]
  },
  {
   "cell_type": "markdown",
   "metadata": {},
   "source": [
    "### Dataset Loading and Splitting"
   ]
  },
  {
   "cell_type": "code",
   "execution_count": 4,
   "metadata": {},
   "outputs": [],
   "source": [
    "import os\n",
    "import urllib.request\n",
    "from sh import gunzip\n",
    "import numpy as np\n",
    "from sklearn.model_selection import train_test_split\n",
    "from mlxtend.data import loadlocal_mnist\n",
    "\n",
    "class FashionMnistLoader:\n",
    "    \n",
    "    dir_name = \"data/fashion\"\n",
    "    url_train_imgs = \"http://fashion-mnist.s3-website.eu-central-1.amazonaws.com/train-images-idx3-ubyte.gz\"\n",
    "    url_train_labels = \"http://fashion-mnist.s3-website.eu-central-1.amazonaws.com/train-labels-idx1-ubyte.gz\"\n",
    "    url_test_imgs = \"http://fashion-mnist.s3-website.eu-central-1.amazonaws.com/t10k-images-idx3-ubyte.gz\"\n",
    "    url_test_labels = \"http://fashion-mnist.s3-website.eu-central-1.amazonaws.com/t10k-labels-idx1-ubyte.gz\"\n",
    "    \n",
    "    def __init__(self):\n",
    "        self.train_imgs_fn = None\n",
    "        self.train_labels_fn = None\n",
    "        self.test_imgs_fn = None\n",
    "        self.test_labels_fn = None\n",
    "        \n",
    "    def get_data(self, url):\n",
    "        gz_file_name = url.split(\"/\")[-1]\n",
    "        gz_file_path = os.path.join(self.dir_name, gz_file_name)  \n",
    "        file_name = gz_file_name.split(\".\")[0]\n",
    "        file_path = os.path.join(self.dir_name, file_name)\n",
    "        os.makedirs(self.dir_name, exist_ok=True)\n",
    "        if not os.path.exists(file_path):\n",
    "            urllib.request.urlretrieve(url, gz_file_path) \n",
    "            gunzip(gz_file_path)  \n",
    "        return file_path\n",
    "        \n",
    "    def get_all_data(self):\n",
    "        self.train_imgs_fn = self.get_data(self.url_train_imgs)\n",
    "        self.train_labels_fn = self.get_data(self.url_train_labels)\n",
    "        self.test_imgs_fn = self.get_data(self.url_test_imgs)\n",
    "        self.test_labels_fn = self.get_data(self.url_test_labels)\n",
    "        return self\n",
    "    \n",
    "    def load_train(self):\n",
    "        X, y = loadlocal_mnist(\n",
    "            images_path=self.train_imgs_fn, \n",
    "            labels_path=self.train_labels_fn)\n",
    "        return X, y\n",
    "    \n",
    "    def load_test(self):\n",
    "        X, y = loadlocal_mnist(\n",
    "            images_path=self.test_imgs_fn, \n",
    "            labels_path=self.test_labels_fn)\n",
    "        return X, y\n",
    "    \n",
    "    def _split(self, X, y, test_size):\n",
    "        X_train, X_test, y_train, y_test = train_test_split(\n",
    "            X, y, test_size=test_size, random_state=666)\n",
    "        return X_train, X_test, y_train, y_test\n",
    "            \n",
    "    def train_split(self, test_size):\n",
    "        X, y = self.load_train()\n",
    "        X_train, X_test, y_train, y_test = self._split(X, y, test_size)\n",
    "        return X_train, X_test, y_train, y_test\n",
    "\n",
    "    def standard_split(self):\n",
    "        X_train, y_train = self.load_train()\n",
    "        X_test, y_test = self.load_test()\n",
    "        return X_train, X_test, y_train, y_test\n",
    "\n",
    "    "
   ]
  },
  {
   "cell_type": "code",
   "execution_count": 5,
   "metadata": {},
   "outputs": [
    {
     "data": {
      "text/plain": [
       "((60000, 784), (10000, 784), 60000, 10000)"
      ]
     },
     "execution_count": 5,
     "metadata": {},
     "output_type": "execute_result"
    }
   ],
   "source": [
    "data_loader = FashionMnistLoader().get_all_data()\n",
    "\n",
    "X_train_dev, X_test, y_train_dev, y_test = data_loader.standard_split()\n",
    "X_train_dev.shape, X_test.shape, len(y_train_dev), len(y_test)"
   ]
  },
  {
   "cell_type": "code",
   "execution_count": 6,
   "metadata": {},
   "outputs": [
    {
     "data": {
      "text/plain": [
       "((50000, 784), (10000, 784), 50000, 10000)"
      ]
     },
     "execution_count": 6,
     "metadata": {},
     "output_type": "execute_result"
    }
   ],
   "source": [
    "X_train, X_dev, y_train, y_dev = data_loader.train_split(1/6)\n",
    "X_train.shape, X_dev.shape, len(y_train), len(y_dev)"
   ]
  },
  {
   "cell_type": "markdown",
   "metadata": {},
   "source": [
    "``` torch.utils.data.Dataset``` is an abstract class representing a dataset. Your custom dataset should inherit Dataset and override the following methods:\n",
    "\n",
    "- ```__len__``` so that ```len(dataset)``` returns the size of the dataset.\n",
    "- ```__getitem__``` to support the indexing such that ```dataset[i]``` can be used to get ith sample\n",
    "\n",
    "Our dataset will as well apply a processing to each sample whenever we get an item by id, this is done by applying a ```transforms```. \n",
    "\n",
    "Let’s say we want to normalize the values of each sample and pass it to tensors. ```torchvision.transforms.Compose``` is a simple callable class which allows us to concatenate more than one transform. "
   ]
  },
  {
   "cell_type": "code",
   "execution_count": 7,
   "metadata": {},
   "outputs": [],
   "source": [
    "from torch.utils.data import Dataset, DataLoader\n",
    "from torchvision import transforms\n",
    "\n",
    "transform = transforms.Compose(\n",
    "    [transforms.ToPILImage(), transforms.ToTensor(), transforms.Normalize([0], [1])])\n",
    "\n",
    "class FashionMnist(Dataset):\n",
    "    \n",
    "    def __init__(self, X, y, transform=None):\n",
    "        self.data = (torch.from_numpy(X).float()/255).reshape(-1, 1, 28, 28).squeeze()\n",
    "        self.target = torch.from_numpy(y).long()\n",
    "        self.transform = transform\n",
    "        \n",
    "    def __len__(self):\n",
    "        return len(self.target)\n",
    "        \n",
    "    def __getitem__(self, index):\n",
    "        img, tar = self.data[index], self.target[index]\n",
    "        if self.transform:\n",
    "            img = self.transform(img)\n",
    "        return img, tar\n",
    "    \n",
    "train_dataset = FashionMnist(X_train, y_train, transform=transform)\n",
    "dev_dataset = FashionMnist(X_dev, y_dev, transform=transform)"
   ]
  },
  {
   "cell_type": "code",
   "execution_count": 8,
   "metadata": {},
   "outputs": [],
   "source": [
    "classes = ['T-shirt/top', 'Trouser', 'Pullover', 'Dress', 'Coat', \n",
    "           'Sandal', 'Shirt', 'Sneaker', 'Bag', 'Ankle boot']\n",
    "num_classes = len(classes)"
   ]
  },
  {
   "cell_type": "markdown",
   "metadata": {},
   "source": [
    "```torch.utils.data.DataLoader``` is an iterator which provides all these features:\n",
    "- Batching the data\n",
    "- Shuffling the data\n",
    "- Load the data in parallel using multiprocessing workers.\n",
    "\n",
    "Parameters used below should be clear. One parameter of interest is ```collate_fn```. You can specify how exactly the samples need to be batched using collate_fn. However, default collate should work fine for most use cases."
   ]
  },
  {
   "cell_type": "code",
   "execution_count": 9,
   "metadata": {},
   "outputs": [],
   "source": [
    "batch_size = 16\n",
    "train_loader = torch.utils.data.DataLoader(train_dataset, batch_size=batch_size, \n",
    "                                           shuffle=True)"
   ]
  },
  {
   "cell_type": "code",
   "execution_count": 10,
   "metadata": {},
   "outputs": [],
   "source": [
    "dataiter = iter(train_loader)\n",
    "images_pt, labels = dataiter.next()"
   ]
  },
  {
   "cell_type": "markdown",
   "metadata": {},
   "source": [
    "### Let's look a bit at data"
   ]
  },
  {
   "cell_type": "code",
   "execution_count": 12,
   "metadata": {},
   "outputs": [],
   "source": [
    "images = images_pt.numpy()"
   ]
  },
  {
   "cell_type": "code",
   "execution_count": 13,
   "metadata": {},
   "outputs": [
    {
     "data": {
      "text/plain": [
       "1.0"
      ]
     },
     "execution_count": 13,
     "metadata": {},
     "output_type": "execute_result"
    }
   ],
   "source": [
    "images[0].max()"
   ]
  },
  {
   "cell_type": "code",
   "execution_count": 14,
   "metadata": {},
   "outputs": [
    {
     "data": {
      "text/plain": [
       "0.0"
      ]
     },
     "execution_count": 14,
     "metadata": {},
     "output_type": "execute_result"
    }
   ],
   "source": [
    "images[0].min()"
   ]
  },
  {
   "cell_type": "code",
   "execution_count": 15,
   "metadata": {},
   "outputs": [
    {
     "data": {
      "image/png": "[encoded data removed]",
      "text/plain": [
       "<Figure size 432x288 with 1 Axes>"
      ]
     },
     "metadata": {},
     "output_type": "display_data"
    }
   ],
   "source": [
    "plt.imshow(np.squeeze(images[0]), cmap='gray')\n",
    "plt.show()"
   ]
  },
  {
   "cell_type": "code",
   "execution_count": 16,
   "metadata": {},
   "outputs": [
    {
     "data": {
      "text/plain": [
       "'Pullover'"
      ]
     },
     "execution_count": 16,
     "metadata": {},
     "output_type": "execute_result"
    }
   ],
   "source": [
    "classes[labels[0]]"
   ]
  },
  {
   "cell_type": "code",
   "execution_count": 17,
   "metadata": {},
   "outputs": [
    {
     "data": {
      "text/plain": [
       "(16, 1, 28, 28)"
      ]
     },
     "execution_count": 17,
     "metadata": {},
     "output_type": "execute_result"
    }
   ],
   "source": [
    "images.shape"
   ]
  },
  {
   "cell_type": "markdown",
   "metadata": {},
   "source": [
    "#### What is that\n",
    "\n",
    "(`batch size`, `number of channels`, `y`, `x`)\n",
    "\n",
    "So we will have to __flatten__ it!!!"
   ]
  },
  {
   "cell_type": "code",
   "execution_count": 18,
   "metadata": {},
   "outputs": [
    {
     "data": {
      "text/plain": [
       "torch.Size([16, 784])"
      ]
     },
     "execution_count": 18,
     "metadata": {},
     "output_type": "execute_result"
    }
   ],
   "source": [
    "images_pt.reshape(images_pt.size(0), -1).shape"
   ]
  },
  {
   "cell_type": "markdown",
   "metadata": {},
   "source": [
    "Let's look a bit more on images."
   ]
  },
  {
   "cell_type": "code",
   "execution_count": 19,
   "metadata": {},
   "outputs": [
    {
     "data": {
      "image/png": "[encoded data removed]",
      "text/plain": [
       "<Figure size 1800x1152 with 16 Axes>"
      ]
     },
     "execution_count": 19,
     "metadata": {},
     "output_type": "execute_result"
    }
   ],
   "source": [
    "fig = plt.figure(figsize=(25, 16))\n",
    "for idx in np.arange(batch_size):\n",
    "    ax = fig.add_subplot(4, batch_size/4, idx+1, xticks=[], yticks=[])\n",
    "    ax.imshow(np.squeeze(images[idx]), cmap='gray')\n",
    "    ax.set_title(classes[labels[idx]])\n",
    "fig"
   ]
  },
  {
   "cell_type": "code",
   "execution_count": 20,
   "metadata": {},
   "outputs": [],
   "source": [
    "idx = np.random.choice(batch_size)\n",
    "img = np.squeeze(images[idx])"
   ]
  },
  {
   "cell_type": "code",
   "execution_count": 21,
   "metadata": {},
   "outputs": [
    {
     "data": {
      "image/png": "[encoded data removed]",
      "text/plain": [
       "<Figure size 864x864 with 1 Axes>"
      ]
     },
     "execution_count": 21,
     "metadata": {},
     "output_type": "execute_result"
    }
   ],
   "source": [
    "# display the pixel values in that image\n",
    "fig = plt.figure(figsize = (12,12)) \n",
    "ax = fig.add_subplot(111)\n",
    "ax.imshow(img, cmap='gray')\n",
    "width, height = img.shape\n",
    "thresh = img.max()/2.5\n",
    "for x in range(width):\n",
    "    for y in range(height):\n",
    "        val = round(img[x][y], 2) if img[x][y] !=0 else 0\n",
    "        ax.annotate(str(val), xy=(y,x),\n",
    "                    horizontalalignment='center',\n",
    "                    verticalalignment='center',\n",
    "                    color='white' if img[x][y]<thresh else 'black')\n",
    "        \n",
    "fig"
   ]
  },
  {
   "cell_type": "code",
   "execution_count": 20,
   "metadata": {},
   "outputs": [],
   "source": [
    "### Exercise\n",
    "# Try try different parameters for the normalization in the transform\n"
   ]
  },
  {
   "cell_type": "markdown",
   "metadata": {},
   "source": [
    "## Let's define Neural Network with pytorch"
   ]
  },
  {
   "cell_type": "code",
   "execution_count": 22,
   "metadata": {},
   "outputs": [],
   "source": [
    "from torch import nn\n",
    "from torch import optim\n",
    "import torch.nn.functional as F"
   ]
  },
  {
   "cell_type": "markdown",
   "metadata": {},
   "source": [
    "### Reminder of Logistic Regression\n",
    "Let's remember Logistic Regression. Recall that output is a probablity and can be written as. \n",
    "\n",
    "$$y = f(w_1 x_1 + w_2 x_2 + w_3 x_3 + b)$$\n",
    "\n",
    "where $f$ here is the sigmoid function given by formula:\n",
    "\n",
    "$$f(x) = \\frac{1}{1 + \\exp(-x)}.$$\n",
    "\n",
    "Then we can represent it as\n",
    "\n",
    "![Simple Neuron 1](docs/pngs/logreg1.png)\n",
    "\n",
    "We call $f$ by __activation function__ since it relates to __perceptron__, a mathematical model of a neuron. We can think about inputs as signals that a perceptron receives. Then preceptron pust them all together and $f$ activates that is take a decision if the sample belongs to the traget class or not. \n",
    "\n",
    "Often we simplify this picture by ploting is as\n",
    "\n",
    "![Simple Neuron 2](docs/pngs/logreg2.png)"
   ]
  },
  {
   "cell_type": "markdown",
   "metadata": {},
   "source": [
    "### Some activations"
   ]
  },
  {
   "cell_type": "markdown",
   "metadata": {},
   "source": [
    "#### Sigmoid"
   ]
  },
  {
   "cell_type": "code",
   "execution_count": 23,
   "metadata": {},
   "outputs": [
    {
     "data": {
      "image/png": "[encoded data removed]",
      "text/plain": [
       "<Figure size 1800x1152 with 16 Axes>"
      ]
     },
     "metadata": {},
     "output_type": "display_data"
    },
    {
     "data": {
      "image/png": "[encoded data removed]",
      "text/plain": [
       "<Figure size 864x864 with 1 Axes>"
      ]
     },
     "metadata": {},
     "output_type": "display_data"
    }
   ],
   "source": [
    "def sigmoid(x):\n",
    "    return 1/(1 + np.exp(-x))\n",
    "\n",
    "\n",
    "x = np.linspace(-4, 4, 100)\n",
    "plt.plot(x, sigmoid(x))\n",
    "plt.show()"
   ]
  },
  {
   "cell_type": "markdown",
   "metadata": {},
   "source": [
    "#### Identity\n",
    "\n",
    "We can see Linear Regression as perceptron with identity activation. That is\n",
    "\n",
    "$$f(x) = x.$$"
   ]
  },
  {
   "cell_type": "markdown",
   "metadata": {},
   "source": [
    "#### Hyperbolic tangent\n",
    "\n",
    "This one is very popular when we need an oputput that is a number between $(-1, 1)$.\n",
    "\n",
    "$$f(x) = \\frac{2}{1 + \\exp(-2x)} - 1$$"
   ]
  },
  {
   "cell_type": "code",
   "execution_count": 24,
   "metadata": {},
   "outputs": [
    {
     "data": {
      "image/png": "[encoded data removed]",
      "text/plain": [
       "<Figure size 432x288 with 1 Axes>"
      ]
     },
     "metadata": {},
     "output_type": "display_data"
    }
   ],
   "source": [
    "def tanh(x):\n",
    "    return 2/(1 + np.exp(-2* x)) - 1\n",
    "\n",
    "plt.plot(x, tanh(x))\n",
    "plt.show()"
   ]
  },
  {
   "cell_type": "markdown",
   "metadata": {},
   "source": [
    "#### ReLU\n",
    "\n",
    "$$f(x) = \\left\\{ \\begin{array}{lll} 0 & \\textrm{for} & x < 0\\\\ x & \\textrm{for} & x \\geq 0 \\end{array}\\right.$$"
   ]
  },
  {
   "cell_type": "code",
   "execution_count": 25,
   "metadata": {},
   "outputs": [
    {
     "data": {
      "image/png": "[encoded data removed]",
      "text/plain": [
       "<Figure size 432x288 with 1 Axes>"
      ]
     },
     "metadata": {},
     "output_type": "display_data"
    }
   ],
   "source": [
    "def relu(x):\n",
    "    return (x >= 0) * x\n",
    "\n",
    "plt.plot(x, relu(x))\n",
    "plt.show()"
   ]
  },
  {
   "cell_type": "markdown",
   "metadata": {},
   "source": [
    "### Neural Network\n",
    "\n",
    "The neural network is a structure that joins together perceptrons. Here we can see an example of it.\n",
    "\n",
    "![Simple Neuron 2](docs/pngs/nn.png)\n"
   ]
  },
  {
   "cell_type": "markdown",
   "metadata": {},
   "source": [
    "### Defining a Neural Network\n",
    "Sometimes you will want to specify models that are more complex than a sequence of existing Modules; for these cases you can define your own Modules by subclassing ```nn.Module``` and defining a ```forward``` which receives input Tensors and produces output Tensors using other modules or other autograd operations on Tensors.\n",
    "\n",
    "In this example we implement our two-layer network as a custom Module subclass:"
   ]
  },
  {
   "cell_type": "code",
   "execution_count": 26,
   "metadata": {},
   "outputs": [],
   "source": [
    "input_dim = 28 * 28\n",
    "\n",
    "class LinearNN(nn.Module):\n",
    "    \n",
    "    def __init__(self):\n",
    "        super().__init__()\n",
    "        self.fc1 = nn.Linear(input_dim, 64)\n",
    "        self.fc2 = nn.Linear(64, 10)\n",
    "        \n",
    "    def forward(self, x):\n",
    "        x = x.reshape(x.size(0), -1)\n",
    "        x = self.fc1(x)\n",
    "        x = F.relu(x)\n",
    "        x = self.fc2(x)\n",
    "        return x\n",
    "    \n",
    "model = LinearNN()\n"
   ]
  },
  {
   "cell_type": "markdown",
   "metadata": {},
   "source": [
    "The learnable parameters of a model are returned by ```model.parameters()``` and ```model.named_parameters()```"
   ]
  },
  {
   "cell_type": "code",
   "execution_count": 27,
   "metadata": {},
   "outputs": [
    {
     "data": {
      "text/plain": [
       "[Parameter containing:\n",
       " tensor([[ 0.0118,  0.0229,  0.0091,  ..., -0.0038, -0.0314,  0.0013],\n",
       "         [ 0.0323,  0.0266,  0.0338,  ...,  0.0113, -0.0076, -0.0219],\n",
       "         [ 0.0250,  0.0104, -0.0055,  ..., -0.0272,  0.0040, -0.0229],\n",
       "         ...,\n",
       "         [ 0.0226,  0.0355, -0.0335,  ...,  0.0037, -0.0081, -0.0304],\n",
       "         [-0.0295, -0.0357, -0.0014,  ...,  0.0101,  0.0196, -0.0112],\n",
       "         [ 0.0336,  0.0289,  0.0230,  ..., -0.0069, -0.0331, -0.0127]],\n",
       "        requires_grad=True), Parameter containing:\n",
       " tensor([ 0.0255,  0.0357, -0.0319, -0.0299,  0.0184,  0.0212,  0.0245,  0.0049,\n",
       "         -0.0085, -0.0352, -0.0274, -0.0019,  0.0184, -0.0186, -0.0127, -0.0110,\n",
       "         -0.0038, -0.0090,  0.0188,  0.0323,  0.0291, -0.0193,  0.0139,  0.0008,\n",
       "         -0.0268, -0.0037, -0.0181, -0.0051, -0.0004,  0.0132,  0.0211,  0.0254,\n",
       "         -0.0212, -0.0220, -0.0327,  0.0218, -0.0152, -0.0077, -0.0095, -0.0251,\n",
       "         -0.0074,  0.0336,  0.0038,  0.0095, -0.0292, -0.0043,  0.0018,  0.0301,\n",
       "          0.0183,  0.0031,  0.0126,  0.0118,  0.0174,  0.0256,  0.0316,  0.0031,\n",
       "          0.0260,  0.0018, -0.0082, -0.0069, -0.0347, -0.0036, -0.0158,  0.0084],\n",
       "        requires_grad=True), Parameter containing:\n",
       " tensor([[-0.0352,  0.0730, -0.1027,  0.0123, -0.0761, -0.1102, -0.0379, -0.0399,\n",
       "          -0.0753, -0.0931,  0.0915,  0.1121, -0.0206, -0.0918, -0.0530,  0.0832,\n",
       "          -0.0521,  0.0066,  0.0449, -0.0004,  0.0845, -0.0466,  0.0910, -0.0580,\n",
       "           0.0098, -0.0702,  0.1074, -0.1207, -0.0413, -0.0055, -0.0515, -0.1073,\n",
       "          -0.0282, -0.0750, -0.0700, -0.1226, -0.0887, -0.0733, -0.0103,  0.0203,\n",
       "          -0.1216,  0.0224,  0.0211, -0.0376, -0.1051, -0.0337, -0.0643, -0.0139,\n",
       "           0.0158,  0.0970,  0.0913,  0.0335,  0.1188, -0.0081, -0.0430,  0.0070,\n",
       "          -0.0904, -0.0811,  0.0676, -0.1212,  0.0238, -0.0473, -0.0334, -0.0064],\n",
       "         [ 0.0836,  0.0858, -0.0445,  0.0660, -0.0657,  0.0921, -0.0744, -0.0254,\n",
       "           0.1024,  0.0702,  0.0520,  0.0379,  0.1024,  0.0688,  0.0002,  0.0279,\n",
       "          -0.1095, -0.0847, -0.0951, -0.0029,  0.0597,  0.0496, -0.0800,  0.0332,\n",
       "           0.0453, -0.0070, -0.0698, -0.0941,  0.1161, -0.0107, -0.1108, -0.0678,\n",
       "           0.0499, -0.1041, -0.0530,  0.1003,  0.0696,  0.0279, -0.0942, -0.0238,\n",
       "          -0.0048, -0.0958, -0.0959, -0.0979, -0.0632, -0.0969,  0.0673,  0.0398,\n",
       "           0.0969,  0.1101,  0.0666, -0.1089,  0.0057,  0.0544,  0.0826, -0.0149,\n",
       "           0.0525,  0.0936,  0.1028,  0.0566,  0.0114, -0.0918,  0.1028, -0.0965],\n",
       "         [-0.0592,  0.1127,  0.1249,  0.0787,  0.1107, -0.0602,  0.0817, -0.0833,\n",
       "          -0.0271,  0.0550,  0.0102, -0.1093,  0.0818,  0.0912,  0.0246, -0.0822,\n",
       "           0.0929, -0.0335, -0.0650,  0.0398,  0.0485,  0.0321, -0.0507,  0.1020,\n",
       "           0.1194, -0.0052,  0.0814,  0.0410,  0.0007, -0.0312, -0.0110, -0.1217,\n",
       "          -0.0045, -0.0735, -0.0924, -0.0979, -0.0459,  0.0755, -0.0536, -0.1244,\n",
       "           0.1181,  0.0259,  0.0829,  0.0381, -0.0451,  0.1250, -0.0773,  0.0376,\n",
       "          -0.0939,  0.0846, -0.0405, -0.1079,  0.0443,  0.0053, -0.0809,  0.0113,\n",
       "           0.0025, -0.0962,  0.0754, -0.0832, -0.0764, -0.0607,  0.0526,  0.1002],\n",
       "         [ 0.0324,  0.0242,  0.0029,  0.0208,  0.0041,  0.0636, -0.0581, -0.0956,\n",
       "           0.1091, -0.0049, -0.0193, -0.0761,  0.0072, -0.0571,  0.0863,  0.1202,\n",
       "          -0.1161, -0.0320,  0.1018, -0.0417,  0.0523, -0.0123,  0.0592,  0.1107,\n",
       "          -0.0756, -0.1069, -0.0137,  0.0005,  0.0407,  0.0887, -0.0442,  0.0406,\n",
       "           0.0733,  0.0919, -0.0883, -0.0960, -0.1120, -0.0895,  0.1079, -0.1176,\n",
       "          -0.1021, -0.0637,  0.0890,  0.0260, -0.0018,  0.1008, -0.0766,  0.0739,\n",
       "           0.1000, -0.0016, -0.1210, -0.0540, -0.0890,  0.0234,  0.0989, -0.0162,\n",
       "          -0.0411, -0.0781, -0.0465,  0.0385,  0.0275, -0.0819, -0.0640,  0.0500],\n",
       "         [ 0.0833, -0.0659, -0.0654,  0.0927,  0.0937, -0.0015, -0.0747,  0.0752,\n",
       "          -0.0629,  0.0496,  0.0729,  0.1111, -0.0949, -0.0935,  0.0934, -0.0058,\n",
       "           0.0119,  0.0286,  0.0653, -0.0998, -0.0217, -0.1016,  0.0946, -0.1249,\n",
       "           0.1005,  0.0994,  0.0378,  0.0146, -0.1160, -0.0164,  0.0772, -0.0296,\n",
       "          -0.0708,  0.1209,  0.0794,  0.0413,  0.0464,  0.0716,  0.1092, -0.0158,\n",
       "          -0.0662,  0.0086, -0.0758, -0.0488, -0.0800,  0.0961,  0.1109, -0.0225,\n",
       "          -0.0741, -0.0890, -0.0968,  0.0531,  0.0111,  0.0919,  0.0308, -0.0951,\n",
       "           0.0944,  0.0248,  0.0822, -0.0925, -0.0260, -0.0645, -0.1135,  0.1066],\n",
       "         [-0.0744, -0.0749, -0.0280, -0.0816, -0.0875, -0.0031, -0.1161,  0.0159,\n",
       "           0.0351,  0.0425,  0.0657, -0.0270,  0.0644,  0.1120, -0.1217,  0.1076,\n",
       "          -0.0838, -0.0093, -0.0387,  0.0143, -0.0962, -0.0315, -0.0884, -0.0872,\n",
       "           0.1247,  0.0378, -0.0778, -0.0492, -0.0648, -0.1245, -0.0596, -0.0932,\n",
       "          -0.0756,  0.0602,  0.0358,  0.0297,  0.0594, -0.0670, -0.1171,  0.0197,\n",
       "           0.1015,  0.1237,  0.0629, -0.0739,  0.0619, -0.1110, -0.1143,  0.0478,\n",
       "          -0.0777,  0.1079, -0.1013,  0.1222, -0.0515, -0.0313, -0.0265,  0.0792,\n",
       "           0.0673,  0.1065,  0.0381,  0.0840,  0.0606, -0.0605,  0.0698,  0.0980],\n",
       "         [ 0.0892,  0.1115,  0.1060,  0.0278, -0.0331, -0.0892,  0.0307,  0.1226,\n",
       "           0.0927,  0.0878,  0.0567,  0.0792,  0.0150, -0.0831,  0.1135,  0.0003,\n",
       "           0.0742, -0.0051,  0.0233,  0.0175, -0.0994,  0.0686,  0.1178, -0.1074,\n",
       "           0.1175, -0.0789, -0.0061, -0.0407, -0.0133,  0.0304,  0.0835, -0.0912,\n",
       "           0.0830, -0.0267, -0.1121,  0.1172, -0.0266, -0.0504,  0.1222,  0.1178,\n",
       "           0.0811,  0.0335,  0.0914,  0.0718,  0.0331, -0.0514, -0.0658, -0.1215,\n",
       "           0.0152, -0.0889,  0.0803, -0.0624, -0.0858, -0.0674, -0.0828, -0.0024,\n",
       "          -0.0601, -0.0482, -0.0610, -0.0450, -0.1066,  0.0019,  0.0007, -0.0293],\n",
       "         [ 0.0184,  0.0269, -0.0629, -0.0342, -0.0775,  0.0117,  0.0019, -0.0867,\n",
       "           0.0415,  0.1117,  0.0207, -0.0231,  0.0013,  0.0435,  0.0870, -0.0574,\n",
       "           0.0336,  0.1238, -0.0283,  0.1184, -0.0945, -0.0792, -0.0849,  0.0788,\n",
       "          -0.0787,  0.1052,  0.1087,  0.0386,  0.1096, -0.0868,  0.0336,  0.0772,\n",
       "           0.0349,  0.0314,  0.0731,  0.0933,  0.0235, -0.1056, -0.0836,  0.1083,\n",
       "          -0.0010, -0.0286, -0.0873, -0.0372, -0.0199,  0.0186, -0.1237, -0.0858,\n",
       "           0.0716, -0.0201, -0.0911, -0.0006,  0.1052,  0.1170,  0.0596,  0.0458,\n",
       "          -0.0638, -0.0251,  0.0053, -0.1054,  0.0968,  0.1152, -0.0333,  0.1098],\n",
       "         [ 0.1046,  0.1080, -0.1062, -0.0429,  0.0308, -0.0946, -0.0922, -0.0345,\n",
       "          -0.0951, -0.0472,  0.0957,  0.0103,  0.0188, -0.1013, -0.0542,  0.0610,\n",
       "          -0.1230,  0.0119,  0.0939,  0.0996, -0.0445,  0.1162,  0.0494, -0.0646,\n",
       "           0.0826, -0.1118,  0.0417, -0.1002, -0.0830, -0.0085, -0.0811, -0.1224,\n",
       "          -0.0124, -0.0434,  0.0181, -0.0369,  0.1142,  0.0752, -0.0661,  0.0728,\n",
       "           0.0903,  0.1092,  0.1209, -0.0311, -0.0608,  0.0950, -0.0667, -0.0672,\n",
       "           0.1148, -0.0380,  0.1085,  0.0921,  0.0616,  0.0383, -0.0839, -0.0853,\n",
       "          -0.1110,  0.1019, -0.0466,  0.0489,  0.0800, -0.0091,  0.1145,  0.1210],\n",
       "         [-0.1228, -0.0031, -0.0205, -0.0651, -0.0236,  0.0177,  0.0047, -0.0163,\n",
       "          -0.0196, -0.0394,  0.1237, -0.0692,  0.1009,  0.0245,  0.0359,  0.0619,\n",
       "           0.0519, -0.0292,  0.0441,  0.0424,  0.0952, -0.1140,  0.0361,  0.0025,\n",
       "           0.0214, -0.1066, -0.0937,  0.0790,  0.0516,  0.0655,  0.0067, -0.0304,\n",
       "          -0.0857,  0.0689,  0.0179, -0.0653,  0.0649,  0.0521, -0.0902, -0.0811,\n",
       "          -0.1170,  0.0603,  0.1016,  0.0949, -0.0485,  0.0904,  0.1018,  0.0104,\n",
       "          -0.0484, -0.1164,  0.0561, -0.0966,  0.0782,  0.0711, -0.0843,  0.0932,\n",
       "           0.0415, -0.0459,  0.0246,  0.0393, -0.0006,  0.0204,  0.0247,  0.0034]],\n",
       "        requires_grad=True), Parameter containing:\n",
       " tensor([ 0.0692,  0.1158,  0.0404, -0.0847,  0.0967,  0.1121, -0.0053, -0.0079,\n",
       "          0.0658,  0.0891], requires_grad=True)]"
      ]
     },
     "execution_count": 27,
     "metadata": {},
     "output_type": "execute_result"
    }
   ],
   "source": [
    "list(model.parameters())"
   ]
  },
  {
   "cell_type": "code",
   "execution_count": 28,
   "metadata": {},
   "outputs": [
    {
     "name": "stdout",
     "output_type": "stream",
     "text": [
      "{'fc2.bias': (torch.Size([10]), 10), 'fc1.weight': (torch.Size([64, 784]), 50176), 'fc2.weight': (torch.Size([10, 64]), 640), 'fc1.bias': (torch.Size([64]), 64)}\n"
     ]
    }
   ],
   "source": [
    "print({name: (val.shape,val.numel()) for name, val in model.named_parameters()})"
   ]
  },
  {
   "cell_type": "code",
   "execution_count": 29,
   "metadata": {},
   "outputs": [
    {
     "data": {
      "text/plain": [
       "50890"
      ]
     },
     "execution_count": 29,
     "metadata": {},
     "output_type": "execute_result"
    }
   ],
   "source": [
    "# Compute the number of parameters of the model and implement a method to compute it.\n",
    "def compute_parameter_number(model):\n",
    "    ### your code goes here\n",
    "    num_param = sum([val.numel() for _, val in model.named_parameters()])\n",
    "    return num_param\n",
    "\n",
    "compute_parameter_number(model)"
   ]
  },
  {
   "cell_type": "markdown",
   "metadata": {},
   "source": [
    "### Defining the loss criteria and the optimizer"
   ]
  },
  {
   "cell_type": "markdown",
   "metadata": {},
   "source": [
    "Let us list the most important loss criteria functions.\n",
    "\n",
    "#### MSE\n",
    "\n",
    "This is the one you vary likely to know. If $y_i$ are the real values and $\\hat{y}_i$ are predicted, then\n",
    "\n",
    "$$MSE(y, \\hat{y}) = \\frac{1}{N}\\sum_i^N (y_i - \\hat{y}_i)^2.$$\n",
    "\n",
    "#### Binary cross entropy\n",
    "\n",
    "This one is used whan we have binary classification problem. Here $y_i \\in \\{0, 1\\}$ and $\\hat{y}_i$ is predicted probablity that the output belongs to target class. Then __binary cross entropy__ is definied by:\n",
    "\n",
    "$$bce(y, \\hat{y}) = -\\sum_{i} \\big(y_i \\log(\\hat{y}_i) + (1- y_i) \\log(1-\\hat{y}_i)\\big).$$\n",
    "\n",
    "#### Cross entropy\n",
    "\n",
    "This is used when we have more than one class. Let assume that we have $j=1,\\ldots, K$ classes and $y_{i,j}$ is one-hot-encodig of the outcome. That is $y_{i,j}$ is one if outcome is class $j$ and 0 otherwise. And let \n",
    "$\\hat{y}_{i, j}$ be the predicted probablity that the sample $i$ belongs to class $j$. Then\n",
    "\n",
    "$$bce(y, \\hat{y}) = -\\sum_{i} \\sum_j y_{i, j} \\log(\\hat{y}_{i, j}).$$"
   ]
  },
  {
   "cell_type": "code",
   "execution_count": 30,
   "metadata": {},
   "outputs": [],
   "source": [
    "criterion = nn.CrossEntropyLoss()"
   ]
  },
  {
   "cell_type": "markdown",
   "metadata": {},
   "source": [
    "Define the optimizer. We will come back to it later."
   ]
  },
  {
   "cell_type": "code",
   "execution_count": 31,
   "metadata": {},
   "outputs": [],
   "source": [
    "learning_rate = 0.01\n",
    "optimizer = torch.optim.Adam(model.parameters(), lr=learning_rate)"
   ]
  },
  {
   "cell_type": "code",
   "execution_count": null,
   "metadata": {},
   "outputs": [],
   "source": []
  },
  {
   "cell_type": "markdown",
   "metadata": {},
   "source": [
    "### Let's see how it performs before training\n",
    "After we have created neural network its weights are initialized randomly."
   ]
  },
  {
   "cell_type": "code",
   "execution_count": 32,
   "metadata": {},
   "outputs": [],
   "source": [
    "batch_size = 16\n",
    "\n",
    "train_loader = torch.utils.data.DataLoader(train_dataset, batch_size=batch_size, shuffle=True)\n",
    "test_loader = torch.utils.data.DataLoader(dev_dataset, batch_size=batch_size, shuffle=True)"
   ]
  },
  {
   "cell_type": "code",
   "execution_count": 33,
   "metadata": {},
   "outputs": [
    {
     "name": "stdout",
     "output_type": "stream",
     "text": [
      "8.3 %\n"
     ]
    }
   ],
   "source": [
    "correct = 0\n",
    "total = 0\n",
    "\n",
    "for images, labels in test_loader:\n",
    "\n",
    "    outputs = model(images)\n",
    "\n",
    "    _, predicted = torch.max(outputs.data, 1)\n",
    "\n",
    "    total += labels.size(0)\n",
    "    correct += (predicted == labels).sum()\n",
    "\n",
    "accuracy = 100.0 * correct.item() / total\n",
    "\n",
    "print(accuracy,\"%\")"
   ]
  },
  {
   "cell_type": "markdown",
   "metadata": {},
   "source": [
    "## Let's train it\n",
    "\n",
    "After we have created neural network its weights are initialized randomly. Then we need to train the network. We do this by repeating the following steps.\n",
    "\n",
    "1. Forward pass\n",
    "2. Calculate loss\n",
    "3. Backpropagate erros: calculate gradients\n",
    "4. Update weights\n",
    "\n",
    "Let us expalain them now. \n",
    "\n",
    "### 1. Forward pass\n",
    "\n",
    "Here we calculate the outcome of the network. That is, using the inputs values we calculate our predictions.\n",
    "\n",
    "### 2. Calculate loss\n",
    "\n",
    "Having real and predicted values we calculate loss. What is loss. It is similar to the measure of the errors. However, due to the way we update our weights (see below) this function has to be differentable or differentiable in all points except as little points as possible. \n",
    "\n",
    "### 3. Backpropagate erros\n",
    "\n",
    "Next we calculate partial derivatives of the loss function with respect to weithgs. The vector of these derivaties is called __gradient__. We do not enter into details with it. It is enought to know that the vector oposite to the gradient point into direction in which we have to correct the weights in order to improve the performance of our neural network.\n",
    "\n",
    "### 4. Update weights using optimizer\n",
    "\n",
    "Here we are describe how __gradient descent__ optimizer works. It works by updating weights by substructing a fraction of the derivate from it. How much of it? It is another parameter called __learning rate__. So if the weight was $w_i$ and the partial derivative of the loss function $L$ with respect to $w_i$ is \n",
    "\n",
    "$$\\frac{\\partial L}{\\partial w_i}$$\n",
    "\n",
    "and the learing rate is $r$ then new weight is\n",
    "\n",
    "$$w_i - r \\frac{\\partial L}{\\partial w_i}.$$\n",
    "\n",
    "In practice we use a modification of this method that is called __Adam__."
   ]
  },
  {
   "cell_type": "code",
   "execution_count": 34,
   "metadata": {},
   "outputs": [],
   "source": [
    "def train(n_epochs):\n",
    "    \n",
    "    loss_over_time = [] # to track the loss as the network trains\n",
    "    \n",
    "    for epoch in range(n_epochs):  # loop over the dataset multiple times\n",
    "        \n",
    "        running_loss = 0.0\n",
    "        \n",
    "        for batch_i, data in enumerate(train_loader):\n",
    "            # get the input images and their corresponding labels\n",
    "            inputs, labels = data\n",
    "\n",
    "            # zero the parameter (weight) gradients\n",
    "            optimizer.zero_grad()\n",
    "\n",
    "            # forward pass to get outputs\n",
    "            outputs = model(inputs)\n",
    "\n",
    "            # calculate the loss\n",
    "            loss = criterion(outputs, labels)\n",
    "\n",
    "            # backward pass to calculate the parameter gradients\n",
    "            loss.backward()\n",
    "\n",
    "            # update the parameters\n",
    "            optimizer.step()\n",
    "\n",
    "            # print loss statistics\n",
    "            # to convert loss into a scalar and add it to running_loss, we use .item()\n",
    "            running_loss += loss.item()\n",
    "            \n",
    "            if batch_i % 1000 == 999:    # print every 1000 batches\n",
    "                avg_loss = running_loss/1000\n",
    "                # record and print the avg loss over the 1000 batches\n",
    "                loss_over_time.append(avg_loss)\n",
    "                print('Epoch: {}, Batch: {}, Avg. Loss: {}'.format(epoch + 1, batch_i+1, avg_loss))\n",
    "                running_loss = 0.0\n",
    "\n",
    "    print('Finished Training')\n",
    "    return loss_over_time\n"
   ]
  },
  {
   "cell_type": "code",
   "execution_count": 35,
   "metadata": {},
   "outputs": [],
   "source": [
    "batch_size = 16\n",
    "\n",
    "train_loader = torch.utils.data.DataLoader(train_dataset, batch_size=batch_size, shuffle=True)\n",
    "test_loader = torch.utils.data.DataLoader(dev_dataset, batch_size=batch_size, shuffle=True)"
   ]
  },
  {
   "cell_type": "code",
   "execution_count": 36,
   "metadata": {
    "scrolled": true
   },
   "outputs": [
    {
     "ename": "KeyboardInterrupt",
     "evalue": "",
     "output_type": "error",
     "traceback": [
      "\u001b[0;31m---------------------------------------------------------------------------\u001b[0m",
      "\u001b[0;31mKeyboardInterrupt\u001b[0m                         Traceback (most recent call last)",
      "\u001b[0;32m<ipython-input-36-29bc7ffbd94e>\u001b[0m in \u001b[0;36m<module>\u001b[0;34m()\u001b[0m\n\u001b[1;32m      2\u001b[0m \u001b[0mmodel\u001b[0m\u001b[0;34m.\u001b[0m\u001b[0mtrain\u001b[0m\u001b[0;34m(\u001b[0m\u001b[0;34m)\u001b[0m \u001b[0;31m# put model in train mode (important with, for example, dropouts, batch normalizations...)\u001b[0m\u001b[0;34m\u001b[0m\u001b[0m\n\u001b[1;32m      3\u001b[0m \u001b[0;34m\u001b[0m\u001b[0m\n\u001b[0;32m----> 4\u001b[0;31m \u001b[0mtraining_loss\u001b[0m \u001b[0;34m=\u001b[0m \u001b[0mtrain\u001b[0m\u001b[0;34m(\u001b[0m\u001b[0mn_epochs\u001b[0m\u001b[0;34m)\u001b[0m \u001b[0;31m# call train and record the loss over time\u001b[0m\u001b[0;34m\u001b[0m\u001b[0m\n\u001b[0m",
      "\u001b[0;32m<ipython-input-34-ca69b5dd29f3>\u001b[0m in \u001b[0;36mtrain\u001b[0;34m(n_epochs)\u001b[0m\n\u001b[1;32m      7\u001b[0m         \u001b[0mrunning_loss\u001b[0m \u001b[0;34m=\u001b[0m \u001b[0;36m0.0\u001b[0m\u001b[0;34m\u001b[0m\u001b[0m\n\u001b[1;32m      8\u001b[0m \u001b[0;34m\u001b[0m\u001b[0m\n\u001b[0;32m----> 9\u001b[0;31m         \u001b[0;32mfor\u001b[0m \u001b[0mbatch_i\u001b[0m\u001b[0;34m,\u001b[0m \u001b[0mdata\u001b[0m \u001b[0;32min\u001b[0m \u001b[0menumerate\u001b[0m\u001b[0;34m(\u001b[0m\u001b[0mtrain_loader\u001b[0m\u001b[0;34m)\u001b[0m\u001b[0;34m:\u001b[0m\u001b[0;34m\u001b[0m\u001b[0m\n\u001b[0m\u001b[1;32m     10\u001b[0m             \u001b[0;31m# get the input images and their corresponding labels\u001b[0m\u001b[0;34m\u001b[0m\u001b[0;34m\u001b[0m\u001b[0m\n\u001b[1;32m     11\u001b[0m             \u001b[0minputs\u001b[0m\u001b[0;34m,\u001b[0m \u001b[0mlabels\u001b[0m \u001b[0;34m=\u001b[0m \u001b[0mdata\u001b[0m\u001b[0;34m\u001b[0m\u001b[0m\n",
      "\u001b[0;32m/usr/local/lib/python3.5/dist-packages/torch/utils/data/dataloader.py\u001b[0m in \u001b[0;36m__next__\u001b[0;34m(self)\u001b[0m\n\u001b[1;32m    558\u001b[0m         \u001b[0;32mif\u001b[0m \u001b[0mself\u001b[0m\u001b[0;34m.\u001b[0m\u001b[0mnum_workers\u001b[0m \u001b[0;34m==\u001b[0m \u001b[0;36m0\u001b[0m\u001b[0;34m:\u001b[0m  \u001b[0;31m# same-process loading\u001b[0m\u001b[0;34m\u001b[0m\u001b[0m\n\u001b[1;32m    559\u001b[0m             \u001b[0mindices\u001b[0m \u001b[0;34m=\u001b[0m \u001b[0mnext\u001b[0m\u001b[0;34m(\u001b[0m\u001b[0mself\u001b[0m\u001b[0;34m.\u001b[0m\u001b[0msample_iter\u001b[0m\u001b[0;34m)\u001b[0m  \u001b[0;31m# may raise StopIteration\u001b[0m\u001b[0;34m\u001b[0m\u001b[0m\n\u001b[0;32m--> 560\u001b[0;31m             \u001b[0mbatch\u001b[0m \u001b[0;34m=\u001b[0m \u001b[0mself\u001b[0m\u001b[0;34m.\u001b[0m\u001b[0mcollate_fn\u001b[0m\u001b[0;34m(\u001b[0m\u001b[0;34m[\u001b[0m\u001b[0mself\u001b[0m\u001b[0;34m.\u001b[0m\u001b[0mdataset\u001b[0m\u001b[0;34m[\u001b[0m\u001b[0mi\u001b[0m\u001b[0;34m]\u001b[0m \u001b[0;32mfor\u001b[0m \u001b[0mi\u001b[0m \u001b[0;32min\u001b[0m \u001b[0mindices\u001b[0m\u001b[0;34m]\u001b[0m\u001b[0;34m)\u001b[0m\u001b[0;34m\u001b[0m\u001b[0m\n\u001b[0m\u001b[1;32m    561\u001b[0m             \u001b[0;32mif\u001b[0m \u001b[0mself\u001b[0m\u001b[0;34m.\u001b[0m\u001b[0mpin_memory\u001b[0m\u001b[0;34m:\u001b[0m\u001b[0;34m\u001b[0m\u001b[0m\n\u001b[1;32m    562\u001b[0m                 \u001b[0mbatch\u001b[0m \u001b[0;34m=\u001b[0m \u001b[0m_utils\u001b[0m\u001b[0;34m.\u001b[0m\u001b[0mpin_memory\u001b[0m\u001b[0;34m.\u001b[0m\u001b[0mpin_memory_batch\u001b[0m\u001b[0;34m(\u001b[0m\u001b[0mbatch\u001b[0m\u001b[0;34m)\u001b[0m\u001b[0;34m\u001b[0m\u001b[0m\n",
      "\u001b[0;32m/usr/local/lib/python3.5/dist-packages/torch/utils/data/dataloader.py\u001b[0m in \u001b[0;36m<listcomp>\u001b[0;34m(.0)\u001b[0m\n\u001b[1;32m    558\u001b[0m         \u001b[0;32mif\u001b[0m \u001b[0mself\u001b[0m\u001b[0;34m.\u001b[0m\u001b[0mnum_workers\u001b[0m \u001b[0;34m==\u001b[0m \u001b[0;36m0\u001b[0m\u001b[0;34m:\u001b[0m  \u001b[0;31m# same-process loading\u001b[0m\u001b[0;34m\u001b[0m\u001b[0m\n\u001b[1;32m    559\u001b[0m             \u001b[0mindices\u001b[0m \u001b[0;34m=\u001b[0m \u001b[0mnext\u001b[0m\u001b[0;34m(\u001b[0m\u001b[0mself\u001b[0m\u001b[0;34m.\u001b[0m\u001b[0msample_iter\u001b[0m\u001b[0;34m)\u001b[0m  \u001b[0;31m# may raise StopIteration\u001b[0m\u001b[0;34m\u001b[0m\u001b[0m\n\u001b[0;32m--> 560\u001b[0;31m             \u001b[0mbatch\u001b[0m \u001b[0;34m=\u001b[0m \u001b[0mself\u001b[0m\u001b[0;34m.\u001b[0m\u001b[0mcollate_fn\u001b[0m\u001b[0;34m(\u001b[0m\u001b[0;34m[\u001b[0m\u001b[0mself\u001b[0m\u001b[0;34m.\u001b[0m\u001b[0mdataset\u001b[0m\u001b[0;34m[\u001b[0m\u001b[0mi\u001b[0m\u001b[0;34m]\u001b[0m \u001b[0;32mfor\u001b[0m \u001b[0mi\u001b[0m \u001b[0;32min\u001b[0m \u001b[0mindices\u001b[0m\u001b[0;34m]\u001b[0m\u001b[0;34m)\u001b[0m\u001b[0;34m\u001b[0m\u001b[0m\n\u001b[0m\u001b[1;32m    561\u001b[0m             \u001b[0;32mif\u001b[0m \u001b[0mself\u001b[0m\u001b[0;34m.\u001b[0m\u001b[0mpin_memory\u001b[0m\u001b[0;34m:\u001b[0m\u001b[0;34m\u001b[0m\u001b[0m\n\u001b[1;32m    562\u001b[0m                 \u001b[0mbatch\u001b[0m \u001b[0;34m=\u001b[0m \u001b[0m_utils\u001b[0m\u001b[0;34m.\u001b[0m\u001b[0mpin_memory\u001b[0m\u001b[0;34m.\u001b[0m\u001b[0mpin_memory_batch\u001b[0m\u001b[0;34m(\u001b[0m\u001b[0mbatch\u001b[0m\u001b[0;34m)\u001b[0m\u001b[0;34m\u001b[0m\u001b[0m\n",
      "\u001b[0;32m<ipython-input-7-2cc6726231b4>\u001b[0m in \u001b[0;36m__getitem__\u001b[0;34m(self, index)\u001b[0m\n\u001b[1;32m     18\u001b[0m         \u001b[0mimg\u001b[0m\u001b[0;34m,\u001b[0m \u001b[0mtar\u001b[0m \u001b[0;34m=\u001b[0m \u001b[0mself\u001b[0m\u001b[0;34m.\u001b[0m\u001b[0mdata\u001b[0m\u001b[0;34m[\u001b[0m\u001b[0mindex\u001b[0m\u001b[0;34m]\u001b[0m\u001b[0;34m,\u001b[0m \u001b[0mself\u001b[0m\u001b[0;34m.\u001b[0m\u001b[0mtarget\u001b[0m\u001b[0;34m[\u001b[0m\u001b[0mindex\u001b[0m\u001b[0;34m]\u001b[0m\u001b[0;34m\u001b[0m\u001b[0m\n\u001b[1;32m     19\u001b[0m         \u001b[0;32mif\u001b[0m \u001b[0mself\u001b[0m\u001b[0;34m.\u001b[0m\u001b[0mtransform\u001b[0m\u001b[0;34m:\u001b[0m\u001b[0;34m\u001b[0m\u001b[0m\n\u001b[0;32m---> 20\u001b[0;31m             \u001b[0mimg\u001b[0m \u001b[0;34m=\u001b[0m \u001b[0mself\u001b[0m\u001b[0;34m.\u001b[0m\u001b[0mtransform\u001b[0m\u001b[0;34m(\u001b[0m\u001b[0mimg\u001b[0m\u001b[0;34m)\u001b[0m\u001b[0;34m\u001b[0m\u001b[0m\n\u001b[0m\u001b[1;32m     21\u001b[0m         \u001b[0;32mreturn\u001b[0m \u001b[0mimg\u001b[0m\u001b[0;34m,\u001b[0m \u001b[0mtar\u001b[0m\u001b[0;34m\u001b[0m\u001b[0m\n\u001b[1;32m     22\u001b[0m \u001b[0;34m\u001b[0m\u001b[0m\n",
      "\u001b[0;32m/usr/local/lib/python3.5/dist-packages/torchvision/transforms/transforms.py\u001b[0m in \u001b[0;36m__call__\u001b[0;34m(self, img)\u001b[0m\n\u001b[1;32m     59\u001b[0m     \u001b[0;32mdef\u001b[0m \u001b[0m__call__\u001b[0m\u001b[0;34m(\u001b[0m\u001b[0mself\u001b[0m\u001b[0;34m,\u001b[0m \u001b[0mimg\u001b[0m\u001b[0;34m)\u001b[0m\u001b[0;34m:\u001b[0m\u001b[0;34m\u001b[0m\u001b[0m\n\u001b[1;32m     60\u001b[0m         \u001b[0;32mfor\u001b[0m \u001b[0mt\u001b[0m \u001b[0;32min\u001b[0m \u001b[0mself\u001b[0m\u001b[0;34m.\u001b[0m\u001b[0mtransforms\u001b[0m\u001b[0;34m:\u001b[0m\u001b[0;34m\u001b[0m\u001b[0m\n\u001b[0;32m---> 61\u001b[0;31m             \u001b[0mimg\u001b[0m \u001b[0;34m=\u001b[0m \u001b[0mt\u001b[0m\u001b[0;34m(\u001b[0m\u001b[0mimg\u001b[0m\u001b[0;34m)\u001b[0m\u001b[0;34m\u001b[0m\u001b[0m\n\u001b[0m\u001b[1;32m     62\u001b[0m         \u001b[0;32mreturn\u001b[0m \u001b[0mimg\u001b[0m\u001b[0;34m\u001b[0m\u001b[0m\n\u001b[1;32m     63\u001b[0m \u001b[0;34m\u001b[0m\u001b[0m\n",
      "\u001b[0;32m/usr/local/lib/python3.5/dist-packages/torchvision/transforms/transforms.py\u001b[0m in \u001b[0;36m__call__\u001b[0;34m(self, pic)\u001b[0m\n\u001b[1;32m     90\u001b[0m             \u001b[0mTensor\u001b[0m\u001b[0;34m:\u001b[0m \u001b[0mConverted\u001b[0m \u001b[0mimage\u001b[0m\u001b[0;34m.\u001b[0m\u001b[0;34m\u001b[0m\u001b[0m\n\u001b[1;32m     91\u001b[0m         \"\"\"\n\u001b[0;32m---> 92\u001b[0;31m         \u001b[0;32mreturn\u001b[0m \u001b[0mF\u001b[0m\u001b[0;34m.\u001b[0m\u001b[0mto_tensor\u001b[0m\u001b[0;34m(\u001b[0m\u001b[0mpic\u001b[0m\u001b[0;34m)\u001b[0m\u001b[0;34m\u001b[0m\u001b[0m\n\u001b[0m\u001b[1;32m     93\u001b[0m \u001b[0;34m\u001b[0m\u001b[0m\n\u001b[1;32m     94\u001b[0m     \u001b[0;32mdef\u001b[0m \u001b[0m__repr__\u001b[0m\u001b[0;34m(\u001b[0m\u001b[0mself\u001b[0m\u001b[0;34m)\u001b[0m\u001b[0;34m:\u001b[0m\u001b[0;34m\u001b[0m\u001b[0m\n",
      "\u001b[0;32m/usr/local/lib/python3.5/dist-packages/torchvision/transforms/functional.py\u001b[0m in \u001b[0;36mto_tensor\u001b[0;34m(pic)\u001b[0m\n\u001b[1;32m     77\u001b[0m         \u001b[0mimg\u001b[0m \u001b[0;34m=\u001b[0m \u001b[0;36m255\u001b[0m \u001b[0;34m*\u001b[0m \u001b[0mtorch\u001b[0m\u001b[0;34m.\u001b[0m\u001b[0mfrom_numpy\u001b[0m\u001b[0;34m(\u001b[0m\u001b[0mnp\u001b[0m\u001b[0;34m.\u001b[0m\u001b[0marray\u001b[0m\u001b[0;34m(\u001b[0m\u001b[0mpic\u001b[0m\u001b[0;34m,\u001b[0m \u001b[0mnp\u001b[0m\u001b[0;34m.\u001b[0m\u001b[0muint8\u001b[0m\u001b[0;34m,\u001b[0m \u001b[0mcopy\u001b[0m\u001b[0;34m=\u001b[0m\u001b[0;32mFalse\u001b[0m\u001b[0;34m)\u001b[0m\u001b[0;34m)\u001b[0m\u001b[0;34m\u001b[0m\u001b[0m\n\u001b[1;32m     78\u001b[0m     \u001b[0;32melse\u001b[0m\u001b[0;34m:\u001b[0m\u001b[0;34m\u001b[0m\u001b[0m\n\u001b[0;32m---> 79\u001b[0;31m         \u001b[0mimg\u001b[0m \u001b[0;34m=\u001b[0m \u001b[0mtorch\u001b[0m\u001b[0;34m.\u001b[0m\u001b[0mByteTensor\u001b[0m\u001b[0;34m(\u001b[0m\u001b[0mtorch\u001b[0m\u001b[0;34m.\u001b[0m\u001b[0mByteStorage\u001b[0m\u001b[0;34m.\u001b[0m\u001b[0mfrom_buffer\u001b[0m\u001b[0;34m(\u001b[0m\u001b[0mpic\u001b[0m\u001b[0;34m.\u001b[0m\u001b[0mtobytes\u001b[0m\u001b[0;34m(\u001b[0m\u001b[0;34m)\u001b[0m\u001b[0;34m)\u001b[0m\u001b[0;34m)\u001b[0m\u001b[0;34m\u001b[0m\u001b[0m\n\u001b[0m\u001b[1;32m     80\u001b[0m     \u001b[0;31m# PIL image mode: L, LA, P, I, F, RGB, YCbCr, RGBA, CMYK\u001b[0m\u001b[0;34m\u001b[0m\u001b[0;34m\u001b[0m\u001b[0m\n\u001b[1;32m     81\u001b[0m     \u001b[0;32mif\u001b[0m \u001b[0mpic\u001b[0m\u001b[0;34m.\u001b[0m\u001b[0mmode\u001b[0m \u001b[0;34m==\u001b[0m \u001b[0;34m'YCbCr'\u001b[0m\u001b[0;34m:\u001b[0m\u001b[0;34m\u001b[0m\u001b[0m\n",
      "\u001b[0;31mKeyboardInterrupt\u001b[0m: "
     ]
    }
   ],
   "source": [
    "n_epochs = 2 # start small to see if your model works, initially\n",
    "model.train() # put model in train mode (important with, for example, dropouts, batch normalizations...)\n",
    "\n",
    "training_loss = train(n_epochs) # call train and record the loss over time"
   ]
  },
  {
   "cell_type": "code",
   "execution_count": 40,
   "metadata": {},
   "outputs": [
    {
     "name": "stdout",
     "output_type": "stream",
     "text": [
      "Test Loss: 0.478780\n",
      "\n"
     ]
    }
   ],
   "source": [
    "# initialize tensor and lists to monitor test loss and accuracy\n",
    "test_loss = torch.zeros(1)\n",
    "class_correct = list(0. for i in range(10))\n",
    "class_total = list(0. for i in range(10))\n",
    "\n",
    "# set the module to evaluation mode\n",
    "model.eval()\n",
    "\n",
    "for batch_i, data in enumerate(test_loader):\n",
    "    \n",
    "    # get the input images and their corresponding labels\n",
    "    inputs, labels = data\n",
    "    # forward pass to get outputs\n",
    "    outputs = model(inputs)\n",
    "\n",
    "    # calculate the loss\n",
    "    loss = criterion(outputs, labels)\n",
    "            \n",
    "    # update average test loss \n",
    "    test_loss = test_loss + ((torch.ones(1) / (batch_i + 1)) * (loss.data - test_loss))\n",
    "    \n",
    "    # get the predicted class from the maximum value in the output-list of class scores\n",
    "    _, predicted = torch.max(outputs.data, 1)\n",
    "    \n",
    "    # compare predictions to true label\n",
    "    # this creates a `correct` Tensor that holds the number of correctly classified images in a batch\n",
    "    correct = np.squeeze(predicted.eq(labels.data.view_as(predicted)))\n",
    "    \n",
    "    # calculate test accuracy for *each* object class\n",
    "    # we get the scalar value of correct items for a class, by calling `correct[i].item()`\n",
    "    for i in range(batch_size):\n",
    "        label = labels.data[i]\n",
    "        class_correct[label] += correct[i].item()\n",
    "        class_total[label] += 1\n",
    "\n",
    "print('Test Loss: {:.6f}\\n'.format(test_loss.numpy()[0]))"
   ]
  },
  {
   "cell_type": "code",
   "execution_count": 41,
   "metadata": {},
   "outputs": [
    {
     "name": "stdout",
     "output_type": "stream",
     "text": [
      "Test Accuracy of T-shirt/top: 92% (957/1034)\n",
      "Test Accuracy of Trouser: 95% (960/1005)\n",
      "Test Accuracy of Pullover: 78% (787/1001)\n",
      "Test Accuracy of Dress: 82% (811/979)\n",
      "Test Accuracy of  Coat: 64% (620/959)\n",
      "Test Accuracy of Sandal: 93% (938/1004)\n",
      "Test Accuracy of Shirt: 52% (530/1007)\n",
      "Test Accuracy of Sneaker: 95% (960/1009)\n",
      "Test Accuracy of   Bag: 89% (921/1027)\n",
      "Test Accuracy of Ankle boot: 92% (901/975)\n",
      "\n",
      "Test Accuracy (Overall): 83% (8385/10000)\n"
     ]
    }
   ],
   "source": [
    "for i in range(10):\n",
    "    if class_total[i] > 0:\n",
    "        print('Test Accuracy of %5s: %2d%% (%2d/%2d)' % (\n",
    "            classes[i], 100 * class_correct[i] / class_total[i],\n",
    "            np.sum(class_correct[i]), np.sum(class_total[i])))\n",
    "    else:\n",
    "        print('Test Accuracy of %5s: N/A (no training examples)' % (classes[i]))\n",
    "\n",
    "        \n",
    "print('\\nTest Accuracy (Overall): %2d%% (%2d/%2d)' % (\n",
    "    100. * np.sum(class_correct) / np.sum(class_total),\n",
    "    np.sum(class_correct), np.sum(class_total)))"
   ]
  },
  {
   "cell_type": "markdown",
   "metadata": {},
   "source": [
    "## Some more insights"
   ]
  },
  {
   "cell_type": "code",
   "execution_count": 37,
   "metadata": {},
   "outputs": [
    {
     "data": {
      "image/png": "[encoded data removed]",
      "text/plain": [
       "<Figure size 1800x576 with 16 Axes>"
      ]
     },
     "metadata": {},
     "output_type": "display_data"
    }
   ],
   "source": [
    "batch_size=16\n",
    "test_loader2 = torch.utils.data.DataLoader(dev_dataset, batch_size=batch_size, shuffle=True)\n",
    "\n",
    "# obtain one batch of test images\n",
    "dataiter2 = iter(test_loader2)\n",
    "images2, labels2 = dataiter2.next()\n",
    "# get predictions\n",
    "outputs = model(images2)\n",
    "preds = np.squeeze(outputs.data.max(1, keepdim=True)[1].numpy())\n",
    "images2 = images2.numpy()\n",
    "\n",
    "# plot the images in the batch, along with predicted and true labels\n",
    "fig = plt.figure(figsize=(25, 8))\n",
    "for idx in np.arange(batch_size):\n",
    "    ax = fig.add_subplot(4, batch_size/4, idx+1, xticks=[], yticks=[])\n",
    "    ax.imshow(np.squeeze(images2[idx]), cmap='gray')\n",
    "    ax.set_title(\"{} ({})\".format(classes[preds[idx]], classes[labels[idx]]),\n",
    "                 color=(\"green\" if preds[idx]==labels2[idx] else \"red\"))"
   ]
  },
  {
   "cell_type": "code",
   "execution_count": 42,
   "metadata": {},
   "outputs": [],
   "source": [
    "from sklearn.metrics import confusion_matrix\n",
    "\n",
    "batch_size=10000\n",
    "test_loader3 = torch.utils.data.DataLoader(dev_dataset, batch_size=10000, shuffle=True)\n",
    "dataiter3 = iter(test_loader3)\n",
    "images3, labels3 = dataiter3.next()\n",
    "outputs = model(images3)\n",
    "array  = confusion_matrix(labels3, np.squeeze(outputs.data.max(1, keepdim=True)[1].numpy()))"
   ]
  },
  {
   "cell_type": "code",
   "execution_count": 46,
   "metadata": {},
   "outputs": [
    {
     "data": {
      "image/png": "[encoded data removed]",
      "text/plain": [
       "<Figure size 720x504 with 2 Axes>"
      ]
     },
     "metadata": {},
     "output_type": "display_data"
    }
   ],
   "source": [
    "import pandas as pd\n",
    "import seaborn as sn\n",
    "\n",
    "df_cm = pd.DataFrame(array, index = [i for i in classes],\n",
    "                  columns = [i for i in classes ])\n",
    "plt.figure(figsize = (10,7))\n",
    "sn.heatmap(df_cm, annot=True)\n",
    "plt.show()"
   ]
  },
  {
   "cell_type": "markdown",
   "metadata": {},
   "source": [
    "# Explore different architectures and configurations"
   ]
  },
  {
   "cell_type": "code",
   "execution_count": 37,
   "metadata": {},
   "outputs": [],
   "source": [
    "input_dim = 28 * 28\n",
    "\n",
    "class LinearNN(nn.Module):\n",
    "    \n",
    "    def __init__(self):\n",
    "        super().__init__()\n",
    "        self.fc1 = nn.Linear(input_dim, 128)\n",
    "        self.fc2 = nn.Linear(128, 32)\n",
    "        self.fc3 = nn.Linear(32,10)\n",
    "        \n",
    "    def forward(self, x):\n",
    "        x = x.reshape(x.size(0), -1)\n",
    "        x = self.fc1(x)\n",
    "        x = F.relu(x)\n",
    "        x = self.fc2(x)\n",
    "        x = F.relu(x)\n",
    "        x = self.fc3(x)\n",
    "\n",
    "        return x\n",
    "    \n",
    "model = LinearNN()"
   ]
  },
  {
   "cell_type": "code",
   "execution_count": 38,
   "metadata": {},
   "outputs": [
    {
     "data": {
      "text/plain": [
       "LinearNN(\n",
       "  (fc1): Linear(in_features=784, out_features=128, bias=True)\n",
       "  (fc2): Linear(in_features=128, out_features=32, bias=True)\n",
       "  (fc3): Linear(in_features=32, out_features=10, bias=True)\n",
       ")"
      ]
     },
     "execution_count": 38,
     "metadata": {},
     "output_type": "execute_result"
    }
   ],
   "source": [
    "model"
   ]
  },
  {
   "cell_type": "code",
   "execution_count": 39,
   "metadata": {},
   "outputs": [],
   "source": [
    "batch_size = 16\n",
    "\n",
    "train_loader = torch.utils.data.DataLoader(train_dataset, batch_size=batch_size, shuffle=True)\n",
    "test_loader = torch.utils.data.DataLoader(dev_dataset, batch_size=batch_size, shuffle=True)"
   ]
  },
  {
   "cell_type": "code",
   "execution_count": 54,
   "metadata": {},
   "outputs": [],
   "source": [
    "model = LinearNN()\n",
    "\n",
    "def train(n_epochs, learning_rate=0.001):\n",
    "    model.train()\n",
    "    \n",
    "    optimizer = torch.optim.Adam(model.parameters(), lr=learning_rate)\n",
    "    \n",
    "    loss_over_time = [] # to track the loss as the network trains\n",
    "    \n",
    "    for epoch in range(n_epochs):  # loop over the dataset multiple times\n",
    "        \n",
    "        running_loss = 0.0\n",
    "        global_loss  = 0.0 \n",
    "        \n",
    "        for batch_i, data in enumerate(train_loader):\n",
    "            # get the input images and their corresponding labels\n",
    "            inputs, labels = data\n",
    "\n",
    "            # zero the parameter (weight) gradients\n",
    "            optimizer.zero_grad()\n",
    "\n",
    "            # forward pass to get outputs\n",
    "            outputs = model(inputs)\n",
    "\n",
    "            # calculate the loss\n",
    "            loss = criterion(outputs, labels)\n",
    "\n",
    "            # backward pass to calculate the parameter gradients\n",
    "            loss.backward()\n",
    "\n",
    "            # update the parameters\n",
    "            optimizer.step()\n",
    "\n",
    "            # print loss statistics\n",
    "            # to convert loss into a scalar and add it to running_loss, we use .item()\n",
    "            running_loss += loss.item()\n",
    "            global_loss  += loss.item()\n",
    "            \n",
    "            if batch_i % 1000 == 999:    # print every 1000 batches\n",
    "                avg_loss = running_loss/1000\n",
    "                # record and print the avg loss over the 1000 batches\n",
    "                loss_over_time.append(avg_loss)\n",
    "                print('Epoch: {}, Batch: {}, Avg. Loss: {}'.format(epoch + 1, batch_i+1, avg_loss))\n",
    "                running_loss = 0.0\n",
    "\n",
    "    print('Finished Training')\n",
    "    return loss_over_time,global_loss"
   ]
  },
  {
   "cell_type": "code",
   "execution_count": 55,
   "metadata": {},
   "outputs": [
    {
     "name": "stdout",
     "output_type": "stream",
     "text": [
      "Epoch: 1, Batch: 1000, Avg. Loss: 0.6957721045613289\n",
      "Epoch: 1, Batch: 2000, Avg. Loss: 0.4783383291512728\n",
      "Epoch: 1, Batch: 3000, Avg. Loss: 0.4388470511138439\n",
      "Epoch: 2, Batch: 1000, Avg. Loss: 0.3926984610632062\n",
      "Epoch: 2, Batch: 2000, Avg. Loss: 0.3872738357409835\n",
      "Epoch: 2, Batch: 3000, Avg. Loss: 0.3824437901079655\n",
      "Finished Training\n"
     ]
    }
   ],
   "source": [
    "n_epochs = 2 # start small to see if your model works, initially\n",
    "model.train() # put model in train mode (important with, for example, dropouts, batch normalizations...)\n",
    "\n",
    "training_loss,training_iter_loss = train(n_epochs) # call train and record the loss over time"
   ]
  },
  {
   "cell_type": "code",
   "execution_count": 56,
   "metadata": {},
   "outputs": [
    {
     "name": "stdout",
     "output_type": "stream",
     "text": [
      "Test Loss: 0.374672\n",
      "\n"
     ]
    }
   ],
   "source": [
    "# initialize tensor and lists to monitor test loss and accuracy\n",
    "test_loss = torch.zeros(1)\n",
    "class_correct = list(0. for i in range(10))\n",
    "class_total = list(0. for i in range(10))\n",
    "\n",
    "# set the module to evaluation model\n",
    "model.eval()\n",
    "\n",
    "for batch_i, data in enumerate(test_loader):\n",
    "    \n",
    "    # get the input images and their corresponding labels\n",
    "    inputs, labels = data\n",
    "    # forward pass to get outputs\n",
    "    outputs = model(inputs)\n",
    "\n",
    "    # calculate the loss\n",
    "    loss = criterion(outputs, labels)\n",
    "            \n",
    "    # update average test loss \n",
    "    test_loss = test_loss + ((torch.ones(1) / (batch_i + 1)) * (loss.data - test_loss))\n",
    "    \n",
    "    # get the predicted class from the maximum value in the output-list of class scores\n",
    "    _, predicted = torch.max(outputs.data, 1)\n",
    "    \n",
    "    # compare predictions to true label\n",
    "    # this creates a `correct` Tensor that holds the number of correctly classified images in a batch\n",
    "    correct = np.squeeze(predicted.eq(labels.data.view_as(predicted)))\n",
    "    \n",
    "    # calculate test accuracy for *each* object class\n",
    "    # we get the scalar value of correct items for a class, by calling `correct[i].item()`\n",
    "    for i in range(batch_size):\n",
    "        label = labels.data[i]\n",
    "        class_correct[label] += correct[i].item()\n",
    "        class_total[label] += 1\n",
    "\n",
    "print('Test Loss: {:.6f}\\n'.format(test_loss.numpy()[0]))"
   ]
  },
  {
   "cell_type": "code",
   "execution_count": 57,
   "metadata": {},
   "outputs": [
    {
     "name": "stdout",
     "output_type": "stream",
     "text": [
      "Test Accuracy of T-shirt/top: 79% (821/1034)\n",
      "Test Accuracy of Trouser: 97% (977/1005)\n",
      "Test Accuracy of Pullover: 80% (801/1001)\n",
      "Test Accuracy of Dress: 93% (913/979)\n",
      "Test Accuracy of  Coat: 83% (800/959)\n",
      "Test Accuracy of Sandal: 97% (975/1004)\n",
      "Test Accuracy of Shirt: 51% (515/1007)\n",
      "Test Accuracy of Sneaker: 89% (899/1009)\n",
      "Test Accuracy of   Bag: 95% (981/1027)\n",
      "Test Accuracy of Ankle boot: 95% (934/975)\n",
      "\n",
      "Test Accuracy (Overall): 86% (8616/10000)\n"
     ]
    }
   ],
   "source": [
    "for i in range(10):\n",
    "    if class_total[i] > 0:\n",
    "        print('Test Accuracy of %5s: %2d%% (%2d/%2d)' % (\n",
    "            classes[i], 100 * class_correct[i] / class_total[i],\n",
    "            np.sum(class_correct[i]), np.sum(class_total[i])))\n",
    "    else:\n",
    "        print('Test Accuracy of %5s: N/A (no training examples)' % (classes[i]))\n",
    "\n",
    "        \n",
    "print('\\nTest Accuracy (Overall): %2d%% (%2d/%2d)' % (\n",
    "    100. * np.sum(class_correct) / np.sum(class_total),\n",
    "    np.sum(class_correct), np.sum(class_total)))"
   ]
  },
  {
   "cell_type": "markdown",
   "metadata": {},
   "source": [
    "# Optimizers, Gradients and BackPropagation"
   ]
  },
  {
   "cell_type": "markdown",
   "metadata": {},
   "source": [
    "When a neural network is trained, we need to compute gradients of the loss function, with respect to every weight and bias, and then update these weights using gradient descent.\n",
    "\n",
    "With neural networks hitting billions of weights, doing the above step efficiently can make or break the feasibility of training."
   ]
  },
  {
   "cell_type": "markdown",
   "metadata": {},
   "source": [
    "## Drivatives: How autograd works\n",
    "\n",
    "$$x_1 = \\left[\\begin{array}{l}\n",
    "x_1^1\\\\\n",
    "x_1^2\n",
    "\\end{array}\\right]=\n",
    "\\left[\\begin{array}{l}\n",
    "0.1\\\\\n",
    "0.2 \n",
    "\\end{array}\\right]\n",
    "$$\n",
    "\n",
    "$$ x_2 = \\left[\\begin{array}{l}\n",
    "x_2^1\\\\\n",
    "x_2^2\n",
    "\\end{array}\\right]=\n",
    "\\left[\\begin{array}{l}\n",
    "0.1\\\\\n",
    "0.1 \n",
    "\\end{array}\\right]\n",
    "$$\n",
    "\n",
    "$$y = 3\\cdot x_1 + x_2 +  \n",
    "\\left[\\begin{array}{l}\n",
    "    1\\\\\n",
    "    1\n",
    "\\end{array}\\right] = \n",
    "\\left[\\begin{array}{l}\n",
    "    3x_1^1 + x_2^1 + 1\\\\\n",
    "    3x_1^2 + x_2^2 + 1\n",
    "\\end{array}\\right]$$\n",
    "\n",
    "$$f(x_1, x_2) = \\textrm{mean}(y) = \\frac{1}{2}(3x_1^1 + x_2^1 + 1 + 3x_1^2 + x_2^2 + 1)$$\n",
    "\n",
    "$$(\\nabla f)_{x_1} = \\left[\\begin{array}{l}\n",
    "    \\frac{\\partial f}{\\partial x_1^1}\\\\\n",
    "    \\frac{\\partial f}{\\partial x_1^2}\n",
    "\\end{array}\\right] = \n",
    "\\left[\\begin{array}{l}\n",
    "    1.5\\\\\n",
    "    1.5\n",
    "\\end{array}\\right] \n",
    "$$"
   ]
  },
  {
   "cell_type": "markdown",
   "metadata": {},
   "source": [
    "### Now in pytorch\n"
   ]
  },
  {
   "cell_type": "code",
   "execution_count": 113,
   "metadata": {},
   "outputs": [
    {
     "data": {
      "text/plain": [
       "tensor([1.4000, 1.7000], grad_fn=<AddBackward0>)"
      ]
     },
     "execution_count": 113,
     "metadata": {},
     "output_type": "execute_result"
    }
   ],
   "source": [
    "x1 = torch.tensor([0.1, 0.2], requires_grad=True)\n",
    "x2 = torch.tensor([0.1, 0.1], requires_grad=True)\n",
    "y = 3 * x1 + x2 + 1\n",
    "y"
   ]
  },
  {
   "cell_type": "code",
   "execution_count": 114,
   "metadata": {},
   "outputs": [
    {
     "name": "stdout",
     "output_type": "stream",
     "text": [
      "tensor([1.5000, 1.5000]) tensor([0.5000, 0.5000])\n"
     ]
    }
   ],
   "source": [
    "output = y.mean()\n",
    "\n",
    "output.backward()\n",
    "print(x1.grad, x2.grad)"
   ]
  },
  {
   "cell_type": "markdown",
   "metadata": {},
   "source": [
    "The method `backward` calculates gradients. __It does not put them to zero!__ But there is a convinient method for that."
   ]
  },
  {
   "cell_type": "code",
   "execution_count": 115,
   "metadata": {},
   "outputs": [
    {
     "name": "stdout",
     "output_type": "stream",
     "text": [
      "tensor([3., 3.]) tensor([1., 1.])\n"
     ]
    }
   ],
   "source": [
    "y = 3 * x1 + x2 + 1\n",
    "output = y.mean()\n",
    "output.backward()\n",
    "print(x1.grad, x2.grad)"
   ]
  },
  {
   "cell_type": "markdown",
   "metadata": {},
   "source": [
    "## Let's check if more complicated derivatives are calculated correctly\n",
    "\n",
    "We start with $x = 2$.\n",
    "\n",
    "$y = f(x) = x^2 - 3$, $f(2) = 2^2 - 3 = 1$.\n",
    "\n",
    "$z = g(y) = y^3 - 2y$, $g(f(2)) = g(1) = 1^3 - 2\\cdot 1 = -1$"
   ]
  },
  {
   "cell_type": "code",
   "execution_count": 116,
   "metadata": {},
   "outputs": [
    {
     "name": "stdout",
     "output_type": "stream",
     "text": [
      "x =  tensor([2.], requires_grad=True)\n",
      "y =  tensor([1.], grad_fn=<SubBackward0>)\n",
      "z =  tensor([-1.], grad_fn=<SubBackward0>)\n"
     ]
    }
   ],
   "source": [
    "x = torch.tensor([2.0], requires_grad=True)\n",
    "print(\"x = \", x)\n",
    "y = x**2 - 3\n",
    "print(\"y = \", y)\n",
    "z = y**3 - 2*y\n",
    "print(\"z = \", z)"
   ]
  },
  {
   "cell_type": "markdown",
   "metadata": {},
   "source": [
    "__Tensors:__ In simple words, its just an n-dimensional array in PyTorch.  They hold\n",
    "- ```.data```: Value\n",
    "- ```.grad```: This is basically the gradient computed up to this particular node, and the gradient of the every subsequent node, can be computed by multiplying the edge weight with the gradient computed at the node just before it.\n",
    "- ```.grad_fn```: Stores the function ```Function``` to compute the gradient to be propagated.\n",
    "\n",
    "\n",
    "On setting ```.requires_grad = True``` they start forming a backward graph that tracks every operation applied on them to calculate the gradients using something called a __dynamic computation graph (DCG)__. When you finish your computation you can call ```.backward()``` and have all the gradients computed automatically. The gradient for this tensor will be accumulated into ```.grad``` attribute.\n",
    "\n",
    "\n",
    "\n",
    "Full description of how automatic differentiation works can be found here:\n",
    "https://www.cs.toronto.edu/~rgrosse/courses/csc321_2018/slides/lec10.pdf"
   ]
  },
  {
   "cell_type": "markdown",
   "metadata": {},
   "source": [
    "#### Chain rule\n",
    "$(g(f(x))' = g'(f(x))\\cdot f'(x)$\n",
    "\n",
    "#### Derivaties\n",
    "$f'(x) = 2x$, $f'(2) = 2\\cdot 2 = 4$\n",
    "\n",
    "$g'(y) = 3y^2 - 2$, $g'(f(2)) = g'(1) = 3 - 2 = 1$\n",
    "\n",
    "$(g(f(2))'=g'(f(2))\\cdot f(2) = 4 \\cdot 1 = 4$"
   ]
  },
  {
   "cell_type": "code",
   "execution_count": 117,
   "metadata": {},
   "outputs": [
    {
     "data": {
      "text/plain": [
       "tensor([4.])"
      ]
     },
     "execution_count": 117,
     "metadata": {},
     "output_type": "execute_result"
    }
   ],
   "source": [
    "z.backward()\n",
    "x.grad"
   ]
  },
  {
   "cell_type": "markdown",
   "metadata": {},
   "source": [
    "\n",
    "```Tensor``` and ```Function``` are interconnected and build up an acyclic graph, that encodes a complete history of computation. Each tensor has a ```.grad_fn``` attribute that references a ```Function``` that has created the Tensor (except for Tensors created by the user - their ```grad_fn``` is None)."
   ]
  },
  {
   "cell_type": "code",
   "execution_count": 118,
   "metadata": {},
   "outputs": [
    {
     "name": "stdout",
     "output_type": "stream",
     "text": [
      "tensor([[1., 1.],\n",
      "        [1., 1.]], requires_grad=True)\n"
     ]
    }
   ],
   "source": [
    "x = torch.ones(2, 2, requires_grad=True)\n",
    "print(x)"
   ]
  },
  {
   "cell_type": "code",
   "execution_count": 119,
   "metadata": {},
   "outputs": [
    {
     "name": "stdout",
     "output_type": "stream",
     "text": [
      "tensor([[3., 3.],\n",
      "        [3., 3.]], grad_fn=<AddBackward0>)\n"
     ]
    }
   ],
   "source": [
    "y = x + 2\n",
    "print(y)"
   ]
  },
  {
   "cell_type": "code",
   "execution_count": 120,
   "metadata": {},
   "outputs": [
    {
     "name": "stdout",
     "output_type": "stream",
     "text": [
      "tensor([[27., 27.],\n",
      "        [27., 27.]], grad_fn=<MulBackward0>) tensor(27., grad_fn=<MeanBackward0>)\n"
     ]
    }
   ],
   "source": [
    "z = y * y * 3\n",
    "out = z.mean()\n",
    "\n",
    "print(z, out)"
   ]
  },
  {
   "cell_type": "markdown",
   "metadata": {},
   "source": [
    "You can also stop autograd from tracking history on Tensors with ```.requires_grad=True``` by wrapping the code block in with ```torch.no_grad()```:"
   ]
  },
  {
   "cell_type": "code",
   "execution_count": 121,
   "metadata": {},
   "outputs": [
    {
     "name": "stdout",
     "output_type": "stream",
     "text": [
      "True\n",
      "True\n",
      "False\n"
     ]
    }
   ],
   "source": [
    "print(x.requires_grad)\n",
    "print((x ** 2).requires_grad)\n",
    "\n",
    "with torch.no_grad():\n",
    "    print((x ** 2).requires_grad)"
   ]
  },
  {
   "cell_type": "markdown",
   "metadata": {},
   "source": [
    "#### Tensors implementation"
   ]
  },
  {
   "cell_type": "code",
   "execution_count": 127,
   "metadata": {},
   "outputs": [
    {
     "name": "stdout",
     "output_type": "stream",
     "text": [
      "0 36591644.0\n",
      "1 31721036.0\n",
      "2 25924642.0\n",
      "3 18501000.0\n",
      "4 11534357.0\n",
      "5 6729283.0\n",
      "6 3970734.0\n",
      "7 2519150.75\n",
      "8 1746652.75\n",
      "9 1307519.25\n",
      "10 1031732.0\n",
      "11 841551.125\n",
      "12 700908.5625\n",
      "13 591819.75\n",
      "14 504573.1875\n",
      "15 433395.65625\n",
      "16 374677.5\n",
      "17 325699.46875\n",
      "18 284450.34375\n",
      "19 249499.65625\n",
      "20 219698.5625\n",
      "21 194116.078125\n",
      "22 172079.015625\n",
      "23 153033.90625\n",
      "24 136518.59375\n",
      "25 122130.125\n",
      "26 109543.953125\n",
      "27 98502.9140625\n",
      "28 88784.046875\n",
      "29 80205.8359375\n",
      "30 72610.0703125\n",
      "31 65838.6796875\n",
      "32 59820.22265625\n",
      "33 54451.95703125\n",
      "34 49658.2890625\n",
      "35 45361.13671875\n",
      "36 41504.62109375\n",
      "37 38035.76953125\n",
      "38 34910.12890625\n",
      "39 32091.6796875\n",
      "40 29541.76953125\n",
      "41 27231.158203125\n",
      "42 25133.91015625\n",
      "43 23227.16796875\n",
      "44 21491.921875\n",
      "45 19909.59375\n",
      "46 18464.150390625\n",
      "47 17141.580078125\n",
      "48 15931.669921875\n",
      "49 14821.990234375\n",
      "50 13802.7255859375\n",
      "51 12866.0576171875\n",
      "52 12005.7666015625\n",
      "53 11212.6455078125\n",
      "54 10480.9560546875\n",
      "55 9805.220703125\n",
      "56 9180.5029296875\n",
      "57 8602.2783203125\n",
      "58 8066.5927734375\n",
      "59 7569.50048828125\n",
      "60 7107.91357421875\n",
      "61 6679.1181640625\n",
      "62 6280.0703125\n",
      "63 5908.62939453125\n",
      "64 5562.91064453125\n",
      "65 5240.4462890625\n",
      "66 4939.494140625\n",
      "67 4658.68359375\n",
      "68 4395.970703125\n",
      "69 4150.2470703125\n",
      "70 3920.23876953125\n",
      "71 3704.765625\n",
      "72 3502.78955078125\n",
      "73 3313.35302734375\n",
      "74 3135.50341796875\n",
      "75 2968.466064453125\n",
      "76 2811.56787109375\n",
      "77 2664.1064453125\n",
      "78 2525.25830078125\n",
      "79 2394.489501953125\n",
      "80 2271.317138671875\n",
      "81 2155.232421875\n",
      "82 2045.85205078125\n",
      "83 1942.60791015625\n",
      "84 1845.168701171875\n",
      "85 1753.14892578125\n",
      "86 1666.2059326171875\n",
      "87 1584.1103515625\n",
      "88 1506.476318359375\n",
      "89 1432.991943359375\n",
      "90 1363.466064453125\n",
      "91 1297.6346435546875\n",
      "92 1235.2540283203125\n",
      "93 1176.1553955078125\n",
      "94 1120.1837158203125\n",
      "95 1067.09619140625\n",
      "96 1016.7551879882812\n",
      "97 969.01806640625\n",
      "98 923.6949462890625\n",
      "99 880.6633911132812\n",
      "100 839.8265991210938\n",
      "101 801.015869140625\n",
      "102 764.1561279296875\n",
      "103 729.1131591796875\n",
      "104 695.7877807617188\n",
      "105 664.1149291992188\n",
      "106 634.0119018554688\n",
      "107 605.3504028320312\n",
      "108 578.0653686523438\n",
      "109 552.0960693359375\n",
      "110 527.3760986328125\n",
      "111 503.8441162109375\n",
      "112 481.4328918457031\n",
      "113 460.0722351074219\n",
      "114 439.71759033203125\n",
      "115 420.3266906738281\n",
      "116 401.828857421875\n",
      "117 384.1928405761719\n",
      "118 367.3833923339844\n",
      "119 351.3382873535156\n",
      "120 336.0329895019531\n",
      "121 321.43585205078125\n",
      "122 307.5052490234375\n",
      "123 294.2087097167969\n",
      "124 281.5213623046875\n",
      "125 269.4060363769531\n",
      "126 257.83551025390625\n",
      "127 246.78428649902344\n",
      "128 236.2280731201172\n",
      "129 226.14122009277344\n",
      "130 216.51416015625\n",
      "131 207.30850219726562\n",
      "132 198.51040649414062\n",
      "133 190.10137939453125\n",
      "134 182.0618438720703\n",
      "135 174.37786865234375\n",
      "136 167.033935546875\n",
      "137 160.01014709472656\n",
      "138 153.29019165039062\n",
      "139 146.86341857910156\n",
      "140 140.7152862548828\n",
      "141 134.83335876464844\n",
      "142 129.2088165283203\n",
      "143 123.82477569580078\n",
      "144 118.67327880859375\n",
      "145 113.74211120605469\n",
      "146 109.0234603881836\n",
      "147 104.506103515625\n",
      "148 100.18364715576172\n",
      "149 96.04574584960938\n",
      "150 92.08074188232422\n",
      "151 88.28753662109375\n",
      "152 84.65275573730469\n",
      "153 81.1710205078125\n",
      "154 77.8397445678711\n",
      "155 74.64644622802734\n",
      "156 71.5857925415039\n",
      "157 68.65687561035156\n",
      "158 65.8501205444336\n",
      "159 63.16232681274414\n",
      "160 60.586090087890625\n",
      "161 58.1163330078125\n",
      "162 55.75080108642578\n",
      "163 53.48369216918945\n",
      "164 51.31218719482422\n",
      "165 49.228355407714844\n",
      "166 47.23284149169922\n",
      "167 45.31880569458008\n",
      "168 43.484195709228516\n",
      "169 41.725799560546875\n",
      "170 40.03975296020508\n",
      "171 38.42326736450195\n",
      "172 36.87358093261719\n",
      "173 35.38667678833008\n",
      "174 33.96162796020508\n",
      "175 32.595703125\n",
      "176 31.284908294677734\n",
      "177 30.028308868408203\n",
      "178 28.82291030883789\n",
      "179 27.66665267944336\n",
      "180 26.557151794433594\n",
      "181 25.493793487548828\n",
      "182 24.473337173461914\n",
      "183 23.493907928466797\n",
      "184 22.555551528930664\n",
      "185 21.65406608581543\n",
      "186 20.78959846496582\n",
      "187 19.96015167236328\n",
      "188 19.16498565673828\n",
      "189 18.401554107666016\n",
      "190 17.668781280517578\n",
      "191 16.965009689331055\n",
      "192 16.290401458740234\n",
      "193 15.6428861618042\n",
      "194 15.021341323852539\n",
      "195 14.42483139038086\n",
      "196 13.852428436279297\n",
      "197 13.303146362304688\n",
      "198 12.775257110595703\n",
      "199 12.269304275512695\n",
      "200 11.78357982635498\n",
      "201 11.317584991455078\n",
      "202 10.870095252990723\n",
      "203 10.439918518066406\n",
      "204 10.027199745178223\n",
      "205 9.631596565246582\n",
      "206 9.251617431640625\n",
      "207 8.886384963989258\n",
      "208 8.535772323608398\n",
      "209 8.19946575164795\n",
      "210 7.876308917999268\n",
      "211 7.565635681152344\n",
      "212 7.267996788024902\n",
      "213 6.982149600982666\n",
      "214 6.707393646240234\n",
      "215 6.443840503692627\n",
      "216 6.190622329711914\n",
      "217 5.947500228881836\n",
      "218 5.713779449462891\n",
      "219 5.48952579498291\n",
      "220 5.274139404296875\n",
      "221 5.067012310028076\n",
      "222 4.868429183959961\n",
      "223 4.677486419677734\n",
      "224 4.494321346282959\n",
      "225 4.318688869476318\n",
      "226 4.149376392364502\n",
      "227 3.986954689025879\n",
      "228 3.8309805393218994\n",
      "229 3.6810014247894287\n",
      "230 3.5372724533081055\n",
      "231 3.399092674255371\n",
      "232 3.2662253379821777\n",
      "233 3.138598680496216\n",
      "234 3.016139507293701\n",
      "235 2.898378372192383\n",
      "236 2.785360336303711\n",
      "237 2.6765928268432617\n",
      "238 2.5723092555999756\n",
      "239 2.4718875885009766\n",
      "240 2.375584363937378\n",
      "241 2.283212423324585\n",
      "242 2.1941752433776855\n",
      "243 2.108811378479004\n",
      "244 2.026609420776367\n",
      "245 1.9477816820144653\n",
      "246 1.8719580173492432\n",
      "247 1.7990931272506714\n",
      "248 1.7292137145996094\n",
      "249 1.6620968580245972\n",
      "250 1.5975420475006104\n",
      "251 1.5353978872299194\n",
      "252 1.4759182929992676\n",
      "253 1.4185569286346436\n",
      "254 1.3633438348770142\n",
      "255 1.3105015754699707\n",
      "256 1.2596443891525269\n",
      "257 1.2107757329940796\n",
      "258 1.1637250185012817\n",
      "259 1.1186885833740234\n",
      "260 1.0753175020217896\n",
      "261 1.0337315797805786\n",
      "262 0.9936296939849854\n",
      "263 0.9551820755004883\n",
      "264 0.918194591999054\n",
      "265 0.8826050758361816\n",
      "266 0.848507821559906\n",
      "267 0.8156384229660034\n",
      "268 0.7840471863746643\n",
      "269 0.7537156343460083\n",
      "270 0.7245170474052429\n",
      "271 0.6965447664260864\n",
      "272 0.6696615815162659\n",
      "273 0.6437694430351257\n",
      "274 0.6188521385192871\n",
      "275 0.5949686765670776\n",
      "276 0.572007417678833\n",
      "277 0.5498819351196289\n",
      "278 0.528659462928772\n",
      "279 0.5082724094390869\n",
      "280 0.4886518716812134\n",
      "281 0.4698259234428406\n",
      "282 0.4516695737838745\n",
      "283 0.4342126250267029\n",
      "284 0.4175146520137787\n",
      "285 0.40143418312072754\n",
      "286 0.385952353477478\n",
      "287 0.37106719613075256\n",
      "288 0.35676226019859314\n",
      "289 0.34306108951568604\n",
      "290 0.3298318684101105\n",
      "291 0.3171521723270416\n",
      "292 0.30492112040519714\n",
      "293 0.2931549549102783\n",
      "294 0.2819361090660095\n",
      "295 0.27105647325515747\n",
      "296 0.2606504261493683\n",
      "297 0.25062912702560425\n",
      "298 0.2409748136997223\n",
      "299 0.2316911667585373\n",
      "300 0.22275540232658386\n",
      "301 0.21424292027950287\n",
      "302 0.20600822567939758\n",
      "303 0.19805647432804108\n",
      "304 0.1904463768005371\n",
      "305 0.1831131875514984\n",
      "306 0.17610029876232147\n",
      "307 0.16933879256248474\n",
      "308 0.1628665179014206\n",
      "309 0.156617671251297\n",
      "310 0.1506168693304062\n",
      "311 0.14484387636184692\n",
      "312 0.139292910695076\n",
      "313 0.13390056788921356\n",
      "314 0.12881430983543396\n",
      "315 0.1238725557923317\n",
      "316 0.11910825222730637\n",
      "317 0.11458148062229156\n",
      "318 0.11016359180212021\n",
      "319 0.10595230758190155\n",
      "320 0.10188686847686768\n",
      "321 0.09800060093402863\n",
      "322 0.09423498809337616\n",
      "323 0.09063078463077545\n",
      "324 0.08716839551925659\n",
      "325 0.08382533490657806\n",
      "326 0.08062654733657837\n",
      "327 0.07752817124128342\n",
      "328 0.07456833869218826\n",
      "329 0.07172881066799164\n",
      "330 0.06898277997970581\n",
      "331 0.06636180728673935\n",
      "332 0.06382378935813904\n",
      "333 0.06137043982744217\n",
      "334 0.0590355321764946\n",
      "335 0.05678468570113182\n",
      "336 0.054616108536720276\n",
      "337 0.05253167822957039\n",
      "338 0.050522156059741974\n",
      "339 0.048594940453767776\n",
      "340 0.04675109684467316\n",
      "341 0.04497061297297478\n",
      "342 0.04325595498085022\n",
      "343 0.04162393510341644\n",
      "344 0.040024906396865845\n",
      "345 0.03850375488400459\n",
      "346 0.03702666237950325\n",
      "347 0.03562648221850395\n",
      "348 0.03426150977611542\n",
      "349 0.03297078609466553\n",
      "350 0.031713347882032394\n",
      "351 0.03050711192190647\n",
      "352 0.029350286349654198\n",
      "353 0.02825409732758999\n",
      "354 0.027179988101124763\n",
      "355 0.026140529662370682\n",
      "356 0.025156380608677864\n",
      "357 0.024205468595027924\n",
      "358 0.023287365213036537\n",
      "359 0.022417845204472542\n",
      "360 0.021574988961219788\n",
      "361 0.020768944174051285\n",
      "362 0.01997894048690796\n",
      "363 0.019232386723160744\n",
      "364 0.018512798473238945\n",
      "365 0.017812589183449745\n",
      "366 0.01714380271732807\n",
      "367 0.016506075859069824\n",
      "368 0.01588270254433155\n",
      "369 0.015291430987417698\n",
      "370 0.014722632244229317\n",
      "371 0.014169672504067421\n",
      "372 0.013642634265124798\n",
      "373 0.013144941069185734\n",
      "374 0.012639589607715607\n",
      "375 0.012176784686744213\n",
      "376 0.011731100268661976\n",
      "377 0.011299611069262028\n",
      "378 0.0108818793669343\n",
      "379 0.010476590134203434\n",
      "380 0.010089367628097534\n",
      "381 0.009715087711811066\n",
      "382 0.009355766698718071\n",
      "383 0.009016228839755058\n",
      "384 0.008681888692080975\n",
      "385 0.00837031938135624\n",
      "386 0.008060452528297901\n",
      "387 0.007765316404402256\n",
      "388 0.007483913097530603\n",
      "389 0.00721854530274868\n",
      "390 0.006957843899726868\n",
      "391 0.006703844293951988\n",
      "392 0.006464808247983456\n",
      "393 0.00622872868552804\n",
      "394 0.006008015479892492\n",
      "395 0.005791687406599522\n",
      "396 0.005586451385170221\n",
      "397 0.005386022850871086\n",
      "398 0.0051964144222438335\n",
      "399 0.0050142062827944756\n",
      "400 0.004836507607251406\n",
      "401 0.004665317013859749\n",
      "402 0.004500381648540497\n",
      "403 0.004343579523265362\n",
      "404 0.004193311091512442\n",
      "405 0.004045956768095493\n",
      "406 0.003909616731107235\n",
      "407 0.003776728641241789\n",
      "408 0.003645818680524826\n",
      "409 0.00351748731918633\n",
      "410 0.0033983010798692703\n",
      "411 0.003278918331488967\n",
      "412 0.003168937750160694\n",
      "413 0.0030637176241725683\n",
      "414 0.0029601592104882\n",
      "415 0.0028637137729674578\n",
      "416 0.0027712881565093994\n",
      "417 0.002679784782230854\n",
      "418 0.0025905363727360964\n",
      "419 0.0025073157157748938\n",
      "420 0.002424136735498905\n",
      "421 0.002346763387322426\n",
      "422 0.002270200289785862\n",
      "423 0.002195779699832201\n",
      "424 0.002126252744346857\n",
      "425 0.0020591835491359234\n",
      "426 0.0019922726787626743\n",
      "427 0.001930737285874784\n",
      "428 0.0018670100253075361\n",
      "429 0.0018113264814019203\n",
      "430 0.0017558878753334284\n",
      "431 0.0017004875699058175\n",
      "432 0.001649760757572949\n",
      "433 0.0015985592035576701\n",
      "434 0.0015519640874117613\n",
      "435 0.0015030420618131757\n",
      "436 0.001457206904888153\n",
      "437 0.001412124722264707\n",
      "438 0.0013705396559089422\n",
      "439 0.0013313260860741138\n",
      "440 0.0012915151892229915\n",
      "441 0.0012532826513051987\n",
      "442 0.00121787388343364\n",
      "443 0.0011832815362140536\n",
      "444 0.0011482173576951027\n",
      "445 0.0011168294586241245\n",
      "446 0.0010858119931071997\n",
      "447 0.001053312560543418\n",
      "448 0.001023942488245666\n",
      "449 0.0009963606717064977\n",
      "450 0.0009688166901469231\n",
      "451 0.0009427910554222763\n",
      "452 0.0009171011624857783\n",
      "453 0.000891920062713325\n",
      "454 0.0008689856622368097\n",
      "455 0.0008454697672277689\n",
      "456 0.0008216354763135314\n",
      "457 0.0008008397417142987\n",
      "458 0.0007793738623149693\n",
      "459 0.0007581164827570319\n",
      "460 0.0007394258282147348\n",
      "461 0.0007206606678664684\n",
      "462 0.0007032701978459954\n",
      "463 0.000684357772115618\n",
      "464 0.0006671628798358142\n",
      "465 0.0006497295689769089\n",
      "466 0.0006328747840598226\n",
      "467 0.0006179200136102736\n",
      "468 0.0006023728637956083\n",
      "469 0.0005872034817002714\n",
      "470 0.0005736780585721135\n",
      "471 0.0005592749221250415\n",
      "472 0.0005447050207294524\n",
      "473 0.000531443627551198\n",
      "474 0.0005192644894123077\n",
      "475 0.0005063587450422347\n",
      "476 0.0004939960781484842\n",
      "477 0.00048352504381909966\n",
      "478 0.0004723391029983759\n",
      "479 0.00046104812645353377\n",
      "480 0.0004503027303144336\n",
      "481 0.0004395900177769363\n",
      "482 0.00043026587809436023\n",
      "483 0.0004207153106108308\n",
      "484 0.0004102119419258088\n",
      "485 0.0004013272700831294\n",
      "486 0.0003917677968274802\n",
      "487 0.00038327075890265405\n",
      "488 0.0003740890824701637\n",
      "489 0.00036664202343672514\n",
      "490 0.0003589660918805748\n",
      "491 0.00035128724994137883\n",
      "492 0.00034346204483881593\n",
      "493 0.00033602220355533063\n",
      "494 0.00032840395579114556\n",
      "495 0.0003214283788111061\n",
      "496 0.0003154732403345406\n",
      "497 0.00030896233511157334\n",
      "498 0.0003014653630089015\n",
      "499 0.00029566444572992623\n"
     ]
    }
   ],
   "source": [
    "dtype = torch.float\n",
    "device = torch.device(\"cpu\")\n",
    "# device = torch.device(\"cuda:0\") # Uncomment this to run on GPU\n",
    "\n",
    "# N is batch size; D_in is input dimension;\n",
    "# H is hidden dimension; D_out is output dimension.\n",
    "N, D_in, H, D_out = 64, 1000, 100, 10\n",
    "\n",
    "# Create random input and output data\n",
    "x = torch.randn(N, D_in, device=device, dtype=dtype)\n",
    "y = torch.randn(N, D_out, device=device, dtype=dtype)\n",
    "\n",
    "# Randomly initialize weights\n",
    "w1 = torch.randn(D_in, H, device=device, dtype=dtype)\n",
    "w2 = torch.randn(H, D_out, device=device, dtype=dtype)\n",
    "\n",
    "learning_rate = 1e-6\n",
    "for t in range(500):\n",
    "    # Forward pass: compute predicted y\n",
    "    h = x.mm(w1)\n",
    "    h_relu = h.clamp(min=0)\n",
    "    y_pred = h_relu.mm(w2)\n",
    "\n",
    "    # Compute and print loss\n",
    "    loss = (y_pred - y).pow(2).sum().item()\n",
    "    print(t, loss) # Step and Loss\n",
    "\n",
    "    # Backprop to compute gradients of w1 and w2 with respect to loss\n",
    "    grad_y_pred = 2.0 * (y_pred - y)\n",
    "    grad_w2 = h_relu.t().mm(grad_y_pred)\n",
    "    grad_h_relu = grad_y_pred.mm(w2.t())\n",
    "    grad_h = grad_h_relu.clone()\n",
    "    grad_h[h < 0] = 0\n",
    "    grad_w1 = x.t().mm(grad_h)\n",
    "\n",
    "    # Update weights using gradient descent\n",
    "    w1 -= learning_rate * grad_w1\n",
    "    w2 -= learning_rate * grad_w2"
   ]
  },
  {
   "cell_type": "markdown",
   "metadata": {},
   "source": [
    "#### Autograd"
   ]
  },
  {
   "cell_type": "code",
   "execution_count": 128,
   "metadata": {},
   "outputs": [
    {
     "name": "stdout",
     "output_type": "stream",
     "text": [
      "0 36754884.0\n",
      "1 35605356.0\n",
      "2 39604176.0\n",
      "3 39979208.0\n",
      "4 31984970.0\n",
      "5 18842538.0\n",
      "6 8955938.0\n",
      "7 4104249.75\n",
      "8 2203145.75\n",
      "9 1441499.375\n",
      "10 1083173.625\n",
      "11 873028.0\n",
      "12 727163.25\n",
      "13 615675.75\n",
      "14 526365.625\n",
      "15 453144.375\n",
      "16 392421.625\n",
      "17 341531.125\n",
      "18 298618.96875\n",
      "19 262195.625\n",
      "20 231154.234375\n",
      "21 204507.46875\n",
      "22 181554.296875\n",
      "23 161664.828125\n",
      "24 144349.765625\n",
      "25 129252.203125\n",
      "26 116027.4140625\n",
      "27 104393.3515625\n",
      "28 94128.171875\n",
      "29 85032.796875\n",
      "30 76950.9296875\n",
      "31 69753.140625\n",
      "32 63334.47265625\n",
      "33 57594.37109375\n",
      "34 52450.1875\n",
      "35 47831.62890625\n",
      "36 43675.06640625\n",
      "37 39927.3671875\n",
      "38 36544.58203125\n",
      "39 33485.63671875\n",
      "40 30711.845703125\n",
      "41 28194.1484375\n",
      "42 25909.359375\n",
      "43 23830.369140625\n",
      "44 21935.111328125\n",
      "45 20205.966796875\n",
      "46 18627.6640625\n",
      "47 17184.3046875\n",
      "48 15864.1640625\n",
      "49 14654.6533203125\n",
      "50 13546.0537109375\n",
      "51 12529.4091796875\n",
      "52 11596.4111328125\n",
      "53 10738.677734375\n",
      "54 9950.2294921875\n",
      "55 9224.4228515625\n",
      "56 8555.9013671875\n",
      "57 7939.9716796875\n",
      "58 7371.4169921875\n",
      "59 6846.8486328125\n",
      "60 6362.5341796875\n",
      "61 5914.96337890625\n",
      "62 5501.1669921875\n",
      "63 5118.4677734375\n",
      "64 4764.294921875\n",
      "65 4436.37744140625\n",
      "66 4132.6201171875\n",
      "67 3851.050048828125\n",
      "68 3589.9521484375\n",
      "69 3347.720703125\n",
      "70 3123.05126953125\n",
      "71 2914.345703125\n",
      "72 2720.33056640625\n",
      "73 2540.061767578125\n",
      "74 2372.47705078125\n",
      "75 2216.58447265625\n",
      "76 2071.555419921875\n",
      "77 1936.551513671875\n",
      "78 1810.91162109375\n",
      "79 1693.8441162109375\n",
      "80 1584.76025390625\n",
      "81 1483.1170654296875\n",
      "82 1388.445556640625\n",
      "83 1300.1806640625\n",
      "84 1217.7333984375\n",
      "85 1140.7911376953125\n",
      "86 1068.9906005859375\n",
      "87 1001.927490234375\n",
      "88 939.3067016601562\n",
      "89 880.787841796875\n",
      "90 826.0831298828125\n",
      "91 774.9506225585938\n",
      "92 727.1534423828125\n",
      "93 682.4755249023438\n",
      "94 640.642333984375\n",
      "95 601.4877319335938\n",
      "96 564.8445434570312\n",
      "97 530.533935546875\n",
      "98 498.4178161621094\n",
      "99 468.32073974609375\n",
      "100 440.1382751464844\n",
      "101 413.73883056640625\n",
      "102 388.996337890625\n",
      "103 365.7906188964844\n",
      "104 344.03924560546875\n",
      "105 323.636474609375\n",
      "106 304.49365234375\n",
      "107 286.5387878417969\n",
      "108 269.6822204589844\n",
      "109 253.86166381835938\n",
      "110 239.01889038085938\n",
      "111 225.07379150390625\n",
      "112 211.96682739257812\n",
      "113 199.65701293945312\n",
      "114 188.0963897705078\n",
      "115 177.22560119628906\n",
      "116 167.0097198486328\n",
      "117 157.41163635253906\n",
      "118 148.39964294433594\n",
      "119 139.9169158935547\n",
      "120 131.936767578125\n",
      "121 124.43265533447266\n",
      "122 117.37675476074219\n",
      "123 110.73474884033203\n",
      "124 104.48213195800781\n",
      "125 98.59827423095703\n",
      "126 93.05909729003906\n",
      "127 87.84183502197266\n",
      "128 82.92698669433594\n",
      "129 78.29737091064453\n",
      "130 73.93527221679688\n",
      "131 69.82554626464844\n",
      "132 65.95365142822266\n",
      "133 62.30657196044922\n",
      "134 58.86635971069336\n",
      "135 55.62323760986328\n",
      "136 52.56379699707031\n",
      "137 49.68007278442383\n",
      "138 46.95960235595703\n",
      "139 44.39628982543945\n",
      "140 41.97822570800781\n",
      "141 39.694671630859375\n",
      "142 37.53974151611328\n",
      "143 35.50534439086914\n",
      "144 33.58563995361328\n",
      "145 31.7750244140625\n",
      "146 30.06667709350586\n",
      "147 28.452199935913086\n",
      "148 26.926624298095703\n",
      "149 25.486534118652344\n",
      "150 24.12654685974121\n",
      "151 22.840089797973633\n",
      "152 21.625751495361328\n",
      "153 20.479223251342773\n",
      "154 19.394594192504883\n",
      "155 18.369216918945312\n",
      "156 17.40031623840332\n",
      "157 16.48426055908203\n",
      "158 15.617379188537598\n",
      "159 14.798839569091797\n",
      "160 14.024613380432129\n",
      "161 13.291223526000977\n",
      "162 12.59784984588623\n",
      "163 11.942466735839844\n",
      "164 11.321876525878906\n",
      "165 10.734973907470703\n",
      "166 10.17921257019043\n",
      "167 9.653205871582031\n",
      "168 9.155342102050781\n",
      "169 8.683979034423828\n",
      "170 8.23786735534668\n",
      "171 7.81545352935791\n",
      "172 7.415441513061523\n",
      "173 7.036411285400391\n",
      "174 6.677545547485352\n",
      "175 6.3376240730285645\n",
      "176 6.015631675720215\n",
      "177 5.710534572601318\n",
      "178 5.421403408050537\n",
      "179 5.147315502166748\n",
      "180 4.887372016906738\n",
      "181 4.641382217407227\n",
      "182 4.408070087432861\n",
      "183 4.186759948730469\n",
      "184 3.977166175842285\n",
      "185 3.7784311771392822\n",
      "186 3.5895278453826904\n",
      "187 3.4106316566467285\n",
      "188 3.2409982681274414\n",
      "189 3.0799994468688965\n",
      "190 2.9274659156799316\n",
      "191 2.78243088722229\n",
      "192 2.6447887420654297\n",
      "193 2.5145394802093506\n",
      "194 2.390718936920166\n",
      "195 2.2732462882995605\n",
      "196 2.161722183227539\n",
      "197 2.0556247234344482\n",
      "198 1.9551026821136475\n",
      "199 1.8597445487976074\n",
      "200 1.769089698791504\n",
      "201 1.6828631162643433\n",
      "202 1.6012494564056396\n",
      "203 1.5235267877578735\n",
      "204 1.449692964553833\n",
      "205 1.3795928955078125\n",
      "206 1.3130321502685547\n",
      "207 1.2499053478240967\n",
      "208 1.1897530555725098\n",
      "209 1.1325154304504395\n",
      "210 1.078181505203247\n",
      "211 1.0266607999801636\n",
      "212 0.9774524569511414\n",
      "213 0.930820882320404\n",
      "214 0.8865923881530762\n",
      "215 0.8443204164505005\n",
      "216 0.8042451739311218\n",
      "217 0.7660714387893677\n",
      "218 0.729851245880127\n",
      "219 0.6953746676445007\n",
      "220 0.6624930500984192\n",
      "221 0.6313002109527588\n",
      "222 0.6014785170555115\n",
      "223 0.5732676982879639\n",
      "224 0.5464047789573669\n",
      "225 0.5208154320716858\n",
      "226 0.4964005947113037\n",
      "227 0.4732644557952881\n",
      "228 0.4510864019393921\n",
      "229 0.430149108171463\n",
      "230 0.410137414932251\n",
      "231 0.3910881578922272\n",
      "232 0.37296316027641296\n",
      "233 0.3556780219078064\n",
      "234 0.33924034237861633\n",
      "235 0.32354921102523804\n",
      "236 0.30859801173210144\n",
      "237 0.29443225264549255\n",
      "238 0.2808462679386139\n",
      "239 0.26798582077026367\n",
      "240 0.25569066405296326\n",
      "241 0.24402324855327606\n",
      "242 0.23283511400222778\n",
      "243 0.22219371795654297\n",
      "244 0.21210798621177673\n",
      "245 0.20239686965942383\n",
      "246 0.19324646890163422\n",
      "247 0.18444189429283142\n",
      "248 0.1760508120059967\n",
      "249 0.16805216670036316\n",
      "250 0.16045284271240234\n",
      "251 0.15323498845100403\n",
      "252 0.14629705250263214\n",
      "253 0.1396765112876892\n",
      "254 0.13338549435138702\n",
      "255 0.12737415730953217\n",
      "256 0.12169378995895386\n",
      "257 0.11624076962471008\n",
      "258 0.1110258549451828\n",
      "259 0.10606291145086288\n",
      "260 0.10131965577602386\n",
      "261 0.09680427610874176\n",
      "262 0.09249839931726456\n",
      "263 0.08834858983755112\n",
      "264 0.08443637192249298\n",
      "265 0.08067241311073303\n",
      "266 0.07709214091300964\n",
      "267 0.07365740090608597\n",
      "268 0.07042001932859421\n",
      "269 0.0672854334115982\n",
      "270 0.06431149691343307\n",
      "271 0.06148463860154152\n",
      "272 0.05877849459648132\n",
      "273 0.05621248111128807\n",
      "274 0.05374392122030258\n",
      "275 0.05138346925377846\n",
      "276 0.049128737300634384\n",
      "277 0.04698488116264343\n",
      "278 0.044925276190042496\n",
      "279 0.0429697260260582\n",
      "280 0.041083477437496185\n",
      "281 0.03930205479264259\n",
      "282 0.03758157789707184\n",
      "283 0.035954978317022324\n",
      "284 0.03438466042280197\n",
      "285 0.03290402144193649\n",
      "286 0.031480319797992706\n",
      "287 0.030106689780950546\n",
      "288 0.02880999818444252\n",
      "289 0.027562230825424194\n",
      "290 0.026368841528892517\n",
      "291 0.025250399485230446\n",
      "292 0.02415873110294342\n",
      "293 0.023113565519452095\n",
      "294 0.022124135866761208\n",
      "295 0.02117343246936798\n",
      "296 0.020275894552469254\n",
      "297 0.019419556483626366\n",
      "298 0.018598170951008797\n",
      "299 0.017798814922571182\n",
      "300 0.017046045511960983\n",
      "301 0.016316238790750504\n",
      "302 0.015629423782229424\n",
      "303 0.014969798736274242\n",
      "304 0.014341355301439762\n",
      "305 0.013738256879150867\n",
      "306 0.013159319758415222\n",
      "307 0.012608877383172512\n",
      "308 0.01208382099866867\n",
      "309 0.011576039716601372\n",
      "310 0.01109449565410614\n",
      "311 0.010636692866683006\n",
      "312 0.010204287245869637\n",
      "313 0.009772220626473427\n",
      "314 0.009366570971906185\n",
      "315 0.008988075889647007\n",
      "316 0.008616749197244644\n",
      "317 0.008265693672001362\n",
      "318 0.007928041741251945\n",
      "319 0.0075994739308953285\n",
      "320 0.0072936187498271465\n",
      "321 0.006996999494731426\n",
      "322 0.006717246025800705\n",
      "323 0.006449595093727112\n",
      "324 0.006187307182699442\n",
      "325 0.005939006805419922\n",
      "326 0.005701148416846991\n",
      "327 0.005475948564708233\n",
      "328 0.005259904079139233\n",
      "329 0.005051529500633478\n",
      "330 0.004846711177378893\n",
      "331 0.004660828039050102\n",
      "332 0.004475961904972792\n",
      "333 0.004303497727960348\n",
      "334 0.004130221903324127\n",
      "335 0.003974107559770346\n",
      "336 0.003819678444415331\n",
      "337 0.0036736149340867996\n",
      "338 0.0035367191303521395\n",
      "339 0.003403858281672001\n",
      "340 0.0032672847155481577\n",
      "341 0.0031473992858082056\n",
      "342 0.003032190026715398\n",
      "343 0.0029142803978174925\n",
      "344 0.0028076162561774254\n",
      "345 0.002707401756197214\n",
      "346 0.0026098033413290977\n",
      "347 0.002510213293135166\n",
      "348 0.002419136930257082\n",
      "349 0.002330030547454953\n",
      "350 0.0022495961748063564\n",
      "351 0.002169202081859112\n",
      "352 0.0020916464272886515\n",
      "353 0.0020163478329777718\n",
      "354 0.0019459447357803583\n",
      "355 0.00187901989556849\n",
      "356 0.0018144308123737574\n",
      "357 0.0017510217148810625\n",
      "358 0.0016921418718993664\n",
      "359 0.0016327679622918367\n",
      "360 0.001577872084453702\n",
      "361 0.0015236915787681937\n",
      "362 0.0014759218320250511\n",
      "363 0.0014251719694584608\n",
      "364 0.0013777778949588537\n",
      "365 0.001332167536020279\n",
      "366 0.0012899409048259258\n",
      "367 0.0012466157786548138\n",
      "368 0.001205925946123898\n",
      "369 0.0011675793211907148\n",
      "370 0.0011307417880743742\n",
      "371 0.001095217652618885\n",
      "372 0.0010599225061014295\n",
      "373 0.0010268271435052156\n",
      "374 0.0009945993078872561\n",
      "375 0.0009629576816223562\n",
      "376 0.000934191863052547\n",
      "377 0.0009056709241122007\n",
      "378 0.000878426362760365\n",
      "379 0.0008522978750988841\n",
      "380 0.000827460375148803\n",
      "381 0.000802861584816128\n",
      "382 0.0007794953417032957\n",
      "383 0.0007572221220470965\n",
      "384 0.0007348660728894174\n",
      "385 0.000713758054189384\n",
      "386 0.0006935185519978404\n",
      "387 0.0006723396363668144\n",
      "388 0.000655178155284375\n",
      "389 0.0006364668952301145\n",
      "390 0.0006179423653520644\n",
      "391 0.0006005781469866633\n",
      "392 0.0005831719026900828\n",
      "393 0.0005680473987013102\n",
      "394 0.000552849960513413\n",
      "395 0.000538170337677002\n",
      "396 0.0005239259917289019\n",
      "397 0.0005090755876153708\n",
      "398 0.0004956427728757262\n",
      "399 0.00048301866627298295\n",
      "400 0.0004699444689322263\n",
      "401 0.0004578485095407814\n",
      "402 0.0004447333049029112\n",
      "403 0.00043350228224880993\n",
      "404 0.00042297516483813524\n",
      "405 0.0004118121578358114\n",
      "406 0.000402348319767043\n",
      "407 0.0003918407019227743\n"
     ]
    },
    {
     "name": "stdout",
     "output_type": "stream",
     "text": [
      "408 0.0003814651572611183\n",
      "409 0.00037163239903748035\n",
      "410 0.00036341557279229164\n",
      "411 0.000355168100213632\n",
      "412 0.00034632114693522453\n",
      "413 0.0003389743797015399\n",
      "414 0.00033073517261072993\n",
      "415 0.0003219693317078054\n",
      "416 0.0003149437834508717\n",
      "417 0.0003077021683566272\n",
      "418 0.00030073500238358974\n",
      "419 0.00029361731139943004\n",
      "420 0.00028686822042800486\n",
      "421 0.00028094585286453366\n",
      "422 0.00027474676608107984\n",
      "423 0.00026856863405555487\n",
      "424 0.00026285121566616\n",
      "425 0.0002568528288975358\n",
      "426 0.0002518376859370619\n",
      "427 0.0002457581867929548\n",
      "428 0.0002407666324870661\n",
      "429 0.0002353462332393974\n",
      "430 0.00023052071628626436\n",
      "431 0.0002251967671327293\n",
      "432 0.0002201269962824881\n",
      "433 0.00021597943850792944\n",
      "434 0.0002112250222126022\n",
      "435 0.00020730697724502534\n",
      "436 0.0002027086156886071\n",
      "437 0.0001986909774132073\n",
      "438 0.0001943042443599552\n",
      "439 0.0001905613171402365\n",
      "440 0.0001865886151790619\n",
      "441 0.00018351234029978514\n",
      "442 0.00017996886163018644\n",
      "443 0.0001763527689035982\n",
      "444 0.00017264393682125956\n",
      "445 0.00016883754869922996\n",
      "446 0.00016601821698714048\n",
      "447 0.00016244588186964393\n",
      "448 0.00015943999460432678\n",
      "449 0.000156687805429101\n",
      "450 0.00015357875963672996\n",
      "451 0.00015054579125717282\n",
      "452 0.0001482987281633541\n",
      "453 0.0001453017321182415\n",
      "454 0.00014279450988397002\n",
      "455 0.0001399986504111439\n",
      "456 0.00013803613546770066\n",
      "457 0.00013572891475632787\n",
      "458 0.00013292852963786572\n",
      "459 0.00013088065315969288\n",
      "460 0.00012848750338889658\n",
      "461 0.0001264454040210694\n",
      "462 0.0001243714359588921\n",
      "463 0.0001221847633132711\n",
      "464 0.00012018922279821709\n",
      "465 0.00011801792425103486\n",
      "466 0.0001162332046078518\n",
      "467 0.00011425763659644872\n",
      "468 0.00011247189831919968\n",
      "469 0.00011069168249377981\n",
      "470 0.0001087905911845155\n",
      "471 0.0001071054648491554\n",
      "472 0.00010531899170018733\n",
      "473 0.00010333747923141345\n",
      "474 0.00010193279013037682\n",
      "475 9.992359264288098e-05\n",
      "476 9.849279740592465e-05\n",
      "477 9.714650514069945e-05\n",
      "478 9.54870629357174e-05\n",
      "479 9.402305295225233e-05\n",
      "480 9.267283166991547e-05\n",
      "481 9.111286635743454e-05\n",
      "482 8.982409053714946e-05\n",
      "483 8.862091635819525e-05\n",
      "484 8.733059803489596e-05\n",
      "485 8.605493349023163e-05\n",
      "486 8.499575778841972e-05\n",
      "487 8.390453149331734e-05\n",
      "488 8.273311686934903e-05\n",
      "489 8.165708277374506e-05\n",
      "490 8.037985389819369e-05\n",
      "491 7.913209265097976e-05\n",
      "492 7.79435140429996e-05\n",
      "493 7.691888458793983e-05\n",
      "494 7.558960351161659e-05\n",
      "495 7.460071356035769e-05\n",
      "496 7.356193964369595e-05\n",
      "497 7.240133709274232e-05\n",
      "498 7.138006913010031e-05\n",
      "499 7.072705193422735e-05\n"
     ]
    }
   ],
   "source": [
    "\n",
    "dtype = torch.float\n",
    "device = torch.device(\"cpu\")\n",
    "# device = torch.device(\"cuda:0\") # Uncomment this to run on GPU\n",
    "\n",
    "# N is batch size; D_in is input dimension;\n",
    "# H is hidden dimension; D_out is output dimension.\n",
    "N, D_in, H, D_out = 64, 1000, 100, 10\n",
    "\n",
    "# Create random Tensors to hold input and outputs.\n",
    "# Setting requires_grad=False indicates that we do not need to compute gradients\n",
    "# with respect to these Tensors during the backward pass.\n",
    "x = torch.randn(N, D_in, device=device, dtype=dtype)\n",
    "y = torch.randn(N, D_out, device=device, dtype=dtype)\n",
    "\n",
    "# Create random Tensors for weights.\n",
    "# Setting requires_grad=True indicates that we want to compute gradients with\n",
    "# respect to these Tensors during the backward pass.\n",
    "w1 = torch.randn(D_in, H, device=device, dtype=dtype, requires_grad=True)\n",
    "w2 = torch.randn(H, D_out, device=device, dtype=dtype, requires_grad=True)\n",
    "\n",
    "learning_rate = 1e-6\n",
    "for t in range(500):\n",
    "    # Forward pass: compute predicted y using operations on Tensors; these\n",
    "    # are exactly the same operations we used to compute the forward pass using\n",
    "    # Tensors, but we do not need to keep references to intermediate values since\n",
    "    # we are not implementing the backward pass by hand.\n",
    "    y_pred = x.mm(w1).clamp(min=0).mm(w2)\n",
    "\n",
    "    # Compute and print loss using operations on Tensors.\n",
    "    # Now loss is a Tensor of shape (1,)\n",
    "    # loss.item() gets the a scalar value held in the loss.\n",
    "    loss = (y_pred - y).pow(2).sum()\n",
    "\n",
    "    print(t,loss.item())\n",
    "    # Use autograd to compute the backward pass. This call will compute the\n",
    "    # gradient of loss with respect to all Tensors with requires_grad=True.\n",
    "    # After this call w1.grad and w2.grad will be Tensors holding the gradient\n",
    "    # of the loss with respect to w1 and w2 respectively.\n",
    "    loss.backward()\n",
    "\n",
    "    # Manually update weights using gradient descent. Wrap in torch.no_grad()\n",
    "    # because weights have requires_grad=True, but we don't need to track this\n",
    "    # in autograd.\n",
    "    # An alternative way is to operate on weight.data and weight.grad.data.\n",
    "    # Recall that tensor.data gives a tensor that shares the storage with\n",
    "    # tensor, but doesn't track history.\n",
    "    # You can also use torch.optim.SGD to achieve this.\n",
    "    with torch.no_grad():\n",
    "        w1 -= learning_rate * w1.grad\n",
    "        w2 -= learning_rate * w2.grad\n",
    "\n",
    "        # Manually zero the gradients after updating weights\n",
    "        w1.grad.zero_()\n",
    "        w2.grad.zero_()\n",
    "     "
   ]
  },
  {
   "cell_type": "markdown",
   "metadata": {},
   "source": [
    "#### Pytorch nn"
   ]
  },
  {
   "cell_type": "code",
   "execution_count": null,
   "metadata": {},
   "outputs": [],
   "source": [
    "\n",
    "# N is batch size; D_in is input dimension;\n",
    "# H is hidden dimension; D_out is output dimension.\n",
    "N, D_in, H, D_out = 64, 1000, 100, 10\n",
    "\n",
    "# Create random Tensors to hold inputs and outputs\n",
    "x = torch.randn(N, D_in)\n",
    "y = torch.randn(N, D_out)\n",
    "\n",
    "# Use the nn package to define our model as a sequence of layers. nn.Sequential\n",
    "# is a Module which contains other Modules, and applies them in sequence to\n",
    "# produce its output. Each Linear Module computes output from input using a\n",
    "# linear function, and holds internal Tensors for its weight and bias.\n",
    "model = torch.nn.Sequential(\n",
    "    torch.nn.Linear(D_in, H),\n",
    "    torch.nn.ReLU(),\n",
    "    torch.nn.Linear(H, D_out),\n",
    ")\n",
    "\n",
    "# The nn package also contains definitions of popular loss functions; in this\n",
    "# case we will use Mean Squared Error (MSE) as our loss function.\n",
    "loss_fn = torch.nn.MSELoss(reduction='sum')\n",
    "\n",
    "learning_rate = 1e-4\n",
    "for t in range(500):\n",
    "    # Forward pass: compute predicted y by passing x to the model. Module objects\n",
    "    # override the __call__ operator so you can call them like functions. When\n",
    "    # doing so you pass a Tensor of input data to the Module and it produces\n",
    "    # a Tensor of output data.\n",
    "    y_pred = model(x)\n",
    "\n",
    "    # Compute and print loss. We pass Tensors containing the predicted and true\n",
    "    # values of y, and the loss function returns a Tensor containing the\n",
    "    # loss.\n",
    "    loss = loss_fn(y_pred, y)\n",
    "    \n",
    "    print(f\"step: {t}, loss: {loss.item()}\")\n",
    "    # Zero the gradients before running the backward pass.\n",
    "    model.zero_grad()\n",
    "\n",
    "    # Backward pass: compute gradient of the loss with respect to all the learnable\n",
    "    # parameters of the model. Internally, the parameters of each Module are stored\n",
    "    # in Tensors with requires_grad=True, so this call will compute gradients for\n",
    "    # all learnable parameters in the model.\n",
    "    loss.backward()\n",
    "\n",
    "    # Update the weights using gradient descent. Each parameter is a Tensor, so\n",
    "    # we can access its gradients like we did before.\n",
    "    with torch.no_grad():\n",
    "        for param in model.parameters():\n",
    "            param -= learning_rate * param.grad"
   ]
  },
  {
   "cell_type": "markdown",
   "metadata": {},
   "source": [
    "Up to this point we have updated the weights of our models by manually mutating the Tensors holding learnable parameters (with ```torch.no_grad()``` or ```.data``` to avoid tracking history in autograd). This is not a huge burden for simple optimization algorithms like stochastic gradient descent, but in practice we often train neural networks using more sophisticated optimizers like AdaGrad, RMSProp, Adam, etc.\n",
    "\n"
   ]
  },
  {
   "cell_type": "code",
   "execution_count": 131,
   "metadata": {},
   "outputs": [
    {
     "name": "stdout",
     "output_type": "stream",
     "text": [
      "0 763.9420776367188\n",
      "1 745.4390258789062\n",
      "2 727.5222778320312\n",
      "3 710.0496826171875\n",
      "4 693.0692749023438\n",
      "5 676.5830688476562\n",
      "6 660.6499633789062\n",
      "7 645.3179931640625\n",
      "8 630.4852294921875\n",
      "9 616.0533447265625\n",
      "10 602.0531616210938\n",
      "11 588.4022216796875\n",
      "12 575.162109375\n",
      "13 562.3078002929688\n",
      "14 549.8626708984375\n",
      "15 537.759765625\n",
      "16 525.9591064453125\n",
      "17 514.4525146484375\n",
      "18 503.2506103515625\n",
      "19 492.3450927734375\n",
      "20 481.7170715332031\n",
      "21 471.3470458984375\n",
      "22 461.208740234375\n",
      "23 451.3333740234375\n",
      "24 441.7252197265625\n",
      "25 432.35400390625\n",
      "26 423.2245788574219\n",
      "27 414.35736083984375\n",
      "28 405.6536865234375\n",
      "29 397.14788818359375\n",
      "30 388.8411560058594\n",
      "31 380.7412414550781\n",
      "32 372.8167419433594\n",
      "33 365.0668029785156\n",
      "34 357.4936828613281\n",
      "35 350.1008605957031\n",
      "36 342.8793640136719\n",
      "37 335.7561950683594\n",
      "38 328.7547302246094\n",
      "39 321.86370849609375\n",
      "40 315.0743408203125\n",
      "41 308.39288330078125\n",
      "42 301.8541564941406\n",
      "43 295.4732666015625\n",
      "44 289.20989990234375\n",
      "45 283.0591735839844\n",
      "46 277.0334777832031\n",
      "47 271.1029968261719\n",
      "48 265.2548828125\n",
      "49 259.5154113769531\n",
      "50 253.87559509277344\n",
      "51 248.3297119140625\n",
      "52 242.88241577148438\n",
      "53 237.5300750732422\n",
      "54 232.25889587402344\n",
      "55 227.07791137695312\n",
      "56 221.98472595214844\n",
      "57 216.9704132080078\n",
      "58 212.04368591308594\n",
      "59 207.20066833496094\n",
      "60 202.46353149414062\n",
      "61 197.8048095703125\n",
      "62 193.2222900390625\n",
      "63 188.70884704589844\n",
      "64 184.27052307128906\n",
      "65 179.91281127929688\n",
      "66 175.6260986328125\n",
      "67 171.43154907226562\n",
      "68 167.32254028320312\n",
      "69 163.28575134277344\n",
      "70 159.3273468017578\n",
      "71 155.42820739746094\n",
      "72 151.59120178222656\n",
      "73 147.82215881347656\n",
      "74 144.12648010253906\n",
      "75 140.5023651123047\n",
      "76 136.9541778564453\n",
      "77 133.4773712158203\n",
      "78 130.06838989257812\n",
      "79 126.72281646728516\n",
      "80 123.451416015625\n",
      "81 120.2446517944336\n",
      "82 117.0989990234375\n",
      "83 114.01220703125\n",
      "84 110.99112701416016\n",
      "85 108.02717590332031\n",
      "86 105.1324691772461\n",
      "87 102.29779052734375\n",
      "88 99.51813507080078\n",
      "89 96.79358673095703\n",
      "90 94.12752532958984\n",
      "91 91.51582336425781\n",
      "92 88.95941925048828\n",
      "93 86.45182037353516\n",
      "94 84.00397491455078\n",
      "95 81.60911560058594\n",
      "96 79.26653289794922\n",
      "97 76.9784164428711\n",
      "98 74.7409896850586\n",
      "99 72.55923461914062\n",
      "100 70.42473602294922\n",
      "101 68.33909606933594\n",
      "102 66.30162048339844\n",
      "103 64.31082916259766\n",
      "104 62.36711120605469\n",
      "105 60.47517395019531\n",
      "106 58.62867736816406\n",
      "107 56.82840347290039\n",
      "108 55.07413101196289\n",
      "109 53.36634063720703\n",
      "110 51.700069427490234\n",
      "111 50.078399658203125\n",
      "112 48.49912643432617\n",
      "113 46.960025787353516\n",
      "114 45.461952209472656\n",
      "115 44.00572204589844\n",
      "116 42.58695983886719\n",
      "117 41.20579147338867\n",
      "118 39.86219024658203\n",
      "119 38.55709457397461\n",
      "120 37.28968811035156\n",
      "121 36.05831527709961\n",
      "122 34.861572265625\n",
      "123 33.6992301940918\n",
      "124 32.57001876831055\n",
      "125 31.47233772277832\n",
      "126 30.406274795532227\n",
      "127 29.372337341308594\n",
      "128 28.369108200073242\n",
      "129 27.395715713500977\n",
      "130 26.450164794921875\n",
      "131 25.534082412719727\n",
      "132 24.646268844604492\n",
      "133 23.785709381103516\n",
      "134 22.952171325683594\n",
      "135 22.144790649414062\n",
      "136 21.361589431762695\n",
      "137 20.602811813354492\n",
      "138 19.869211196899414\n",
      "139 19.159534454345703\n",
      "140 18.473146438598633\n",
      "141 17.80742645263672\n",
      "142 17.1635799407959\n",
      "143 16.54059600830078\n",
      "144 15.93820571899414\n",
      "145 15.354765892028809\n",
      "146 14.790515899658203\n",
      "147 14.244863510131836\n",
      "148 13.717369079589844\n",
      "149 13.207576751708984\n",
      "150 12.714564323425293\n",
      "151 12.238367080688477\n",
      "152 11.777814865112305\n",
      "153 11.33358097076416\n",
      "154 10.90433120727539\n",
      "155 10.49020767211914\n",
      "156 10.090377807617188\n",
      "157 9.703843116760254\n",
      "158 9.330832481384277\n",
      "159 8.970890045166016\n",
      "160 8.623787879943848\n",
      "161 8.288336753845215\n",
      "162 7.965076923370361\n",
      "163 7.653435230255127\n",
      "164 7.35275936126709\n",
      "165 7.063107490539551\n",
      "166 6.7838358879089355\n",
      "167 6.51461935043335\n",
      "168 6.255138874053955\n",
      "169 6.005508899688721\n",
      "170 5.7650017738342285\n",
      "171 5.5332818031311035\n",
      "172 5.309804439544678\n",
      "173 5.0943498611450195\n",
      "174 4.886685848236084\n",
      "175 4.686692714691162\n",
      "176 4.494007587432861\n",
      "177 4.308539390563965\n",
      "178 4.130159378051758\n",
      "179 3.9583895206451416\n",
      "180 3.79323410987854\n",
      "181 3.6343600749969482\n",
      "182 3.481703281402588\n",
      "183 3.334794282913208\n",
      "184 3.193636417388916\n",
      "185 3.0578856468200684\n",
      "186 2.92755126953125\n",
      "187 2.802316427230835\n",
      "188 2.682018756866455\n",
      "189 2.566401720046997\n",
      "190 2.4554059505462646\n",
      "191 2.3488481044769287\n",
      "192 2.246671438217163\n",
      "193 2.1485700607299805\n",
      "194 2.0544674396514893\n",
      "195 1.9640964269638062\n",
      "196 1.877493143081665\n",
      "197 1.7944508790969849\n",
      "198 1.714751958847046\n",
      "199 1.6383739709854126\n",
      "200 1.5651355981826782\n",
      "201 1.494942307472229\n",
      "202 1.4276610612869263\n",
      "203 1.363171935081482\n",
      "204 1.3014254570007324\n",
      "205 1.2423280477523804\n",
      "206 1.1857714653015137\n",
      "207 1.1315619945526123\n",
      "208 1.0796725749969482\n",
      "209 1.0299814939498901\n",
      "210 0.9824649095535278\n",
      "211 0.9370073676109314\n",
      "212 0.8935407996177673\n",
      "213 0.8520008325576782\n",
      "214 0.8122476935386658\n",
      "215 0.774254322052002\n",
      "216 0.7379393577575684\n",
      "217 0.7032233476638794\n",
      "218 0.6700440049171448\n",
      "219 0.6383360624313354\n",
      "220 0.6080518364906311\n",
      "221 0.5791290402412415\n",
      "222 0.5514911413192749\n",
      "223 0.525100827217102\n",
      "224 0.4999121427536011\n",
      "225 0.47586390376091003\n",
      "226 0.452899694442749\n",
      "227 0.43099427223205566\n",
      "228 0.4100895822048187\n",
      "229 0.39013731479644775\n",
      "230 0.37111958861351013\n",
      "231 0.3529762029647827\n",
      "232 0.3356691300868988\n",
      "233 0.3191775381565094\n",
      "234 0.30345460772514343\n",
      "235 0.2884694039821625\n",
      "236 0.2741892635822296\n",
      "237 0.26058247685432434\n",
      "238 0.2476235032081604\n",
      "239 0.23528629541397095\n",
      "240 0.22354090213775635\n",
      "241 0.21235515177249908\n",
      "242 0.2017044574022293\n",
      "243 0.1915624886751175\n",
      "244 0.18190814554691315\n",
      "245 0.1727209836244583\n",
      "246 0.163976788520813\n",
      "247 0.15566200017929077\n",
      "248 0.14774981141090393\n",
      "249 0.14022213220596313\n",
      "250 0.13306385278701782\n",
      "251 0.12627296149730682\n",
      "252 0.11981694400310516\n",
      "253 0.11368612200021744\n",
      "254 0.10784841328859329\n",
      "255 0.10230273008346558\n",
      "256 0.09703466296195984\n",
      "257 0.0920267254114151\n",
      "258 0.08726861327886581\n",
      "259 0.08274934440851212\n",
      "260 0.078455351293087\n",
      "261 0.07437842339277267\n",
      "262 0.07050647586584091\n",
      "263 0.06682737171649933\n",
      "264 0.06333377212285995\n",
      "265 0.06001735106110573\n",
      "266 0.05686994642019272\n",
      "267 0.05388340353965759\n",
      "268 0.05104769021272659\n",
      "269 0.04835563525557518\n",
      "270 0.045801762491464615\n",
      "271 0.04337987303733826\n",
      "272 0.04108276218175888\n",
      "273 0.038901932537555695\n",
      "274 0.03683486580848694\n",
      "275 0.03487428277730942\n",
      "276 0.03301515057682991\n",
      "277 0.03125264495611191\n",
      "278 0.029584325850009918\n",
      "279 0.028007933869957924\n",
      "280 0.02651328034698963\n",
      "281 0.025097256526350975\n",
      "282 0.023754626512527466\n",
      "283 0.022482942789793015\n",
      "284 0.02127753011882305\n",
      "285 0.020136024802923203\n",
      "286 0.019053595140576363\n",
      "287 0.018028555437922478\n",
      "288 0.017057493329048157\n",
      "289 0.016138244420289993\n",
      "290 0.01526695303618908\n",
      "291 0.014442062005400658\n",
      "292 0.013660374097526073\n",
      "293 0.012920314446091652\n",
      "294 0.012219824828207493\n",
      "295 0.011556530371308327\n",
      "296 0.010928449220955372\n",
      "297 0.010333888232707977\n",
      "298 0.009771186858415604\n",
      "299 0.009238227270543575\n",
      "300 0.008733898401260376\n",
      "301 0.008256563916802406\n",
      "302 0.007804843131452799\n",
      "303 0.00737732695415616\n",
      "304 0.006972893141210079\n",
      "305 0.006590129341930151\n",
      "306 0.0062280455604195595\n",
      "307 0.005885394290089607\n",
      "308 0.005561323836445808\n",
      "309 0.005254762247204781\n",
      "310 0.004964914172887802\n",
      "311 0.004690730012953281\n",
      "312 0.004431423265486956\n",
      "313 0.004186245147138834\n",
      "314 0.003954440820962191\n",
      "315 0.0037351977080106735\n",
      "316 0.0035278715658932924\n",
      "317 0.0033318938221782446\n",
      "318 0.003146642819046974\n",
      "319 0.00297152204439044\n",
      "320 0.0028059568721801043\n",
      "321 0.0026495205238461494\n",
      "322 0.0025015815626829863\n",
      "323 0.0023618449922651052\n",
      "324 0.0022297287359833717\n",
      "325 0.0021048933267593384\n",
      "326 0.0019869590178132057\n",
      "327 0.0018755135824903846\n",
      "328 0.0017701766919344664\n",
      "329 0.0016706802416592836\n",
      "330 0.0015767064178362489\n",
      "331 0.0014878929359838367\n",
      "332 0.0014040234964340925\n",
      "333 0.001324811135418713\n",
      "334 0.0012499837903305888\n",
      "335 0.0011793940793722868\n",
      "336 0.001112602767534554\n",
      "337 0.0010495727183297276\n",
      "338 0.0009900740114971995\n",
      "339 0.000933891162276268\n",
      "340 0.0008808554848656058\n",
      "341 0.0008307568496093154\n",
      "342 0.0007834960706532001\n",
      "343 0.000738849921617657\n",
      "344 0.000696722767315805\n",
      "345 0.0006569816614501178\n",
      "346 0.0006194139132276177\n",
      "347 0.0005839982186444104\n",
      "348 0.0005505713634192944\n",
      "349 0.0005190360243432224\n",
      "350 0.0004893027944490314\n",
      "351 0.0004612283082678914\n",
      "352 0.0004347469948697835\n",
      "353 0.0004097668861504644\n",
      "354 0.00038617535028606653\n",
      "355 0.0003639516362454742\n",
      "356 0.00034298215177841485\n",
      "357 0.0003231865121051669\n",
      "358 0.0003045222256332636\n",
      "359 0.00028692150954157114\n",
      "360 0.00027032720390707254\n",
      "361 0.0002546665782574564\n",
      "362 0.00023990834597498178\n",
      "363 0.00022598847863264382\n",
      "364 0.00021287213894538581\n",
      "365 0.0002004995767492801\n",
      "366 0.0001888288970803842\n",
      "367 0.0001778362347977236\n",
      "368 0.00016747294284868985\n",
      "369 0.00015770165191497654\n",
      "370 0.00014848598220851272\n",
      "371 0.00013981111987959594\n",
      "372 0.00013162719551473856\n",
      "373 0.0001239169796463102\n",
      "374 0.00011664919293252751\n",
      "375 0.00010980474326061085\n",
      "376 0.00010334964463254437\n",
      "377 9.727403812576085e-05\n",
      "378 9.154838335234672e-05\n",
      "379 8.614985563326627e-05\n",
      "380 8.106713357847184e-05\n",
      "381 7.628972525708377e-05\n",
      "382 7.177401130320504e-05\n",
      "383 6.752862100256607e-05\n",
      "384 6.352901982609183e-05\n",
      "385 5.976220199954696e-05\n",
      "386 5.621578384307213e-05\n",
      "387 5.287626481731422e-05\n",
      "388 4.973068644176237e-05\n",
      "389 4.677411197917536e-05\n",
      "390 4.398632518132217e-05\n",
      "391 4.1363884520251304e-05\n",
      "392 3.88914231734816e-05\n",
      "393 3.656947228591889e-05\n",
      "394 3.4381730074528605e-05\n",
      "395 3.232139351894148e-05\n",
      "396 3.038222530449275e-05\n",
      "397 2.8561113140312955e-05\n",
      "398 2.6845909815165214e-05\n",
      "399 2.523134753573686e-05\n",
      "400 2.3714101189398207e-05\n",
      "401 2.2285945306066424e-05\n",
      "402 2.094069350278005e-05\n",
      "403 1.9677760064951144e-05\n",
      "404 1.848844112828374e-05\n",
      "405 1.7371126887155697e-05\n"
     ]
    },
    {
     "name": "stdout",
     "output_type": "stream",
     "text": [
      "406 1.6319023416144773e-05\n",
      "407 1.532925853098277e-05\n",
      "408 1.4399917745322455e-05\n",
      "409 1.3525542271963786e-05\n",
      "410 1.2703166248684283e-05\n",
      "411 1.192955005535623e-05\n",
      "412 1.1204276233911514e-05\n",
      "413 1.052048901328817e-05\n",
      "414 9.878981472866144e-06\n",
      "415 9.27478959056316e-06\n",
      "416 8.707565029908437e-06\n",
      "417 8.175397852028254e-06\n",
      "418 7.67569690651726e-06\n",
      "419 7.203424502222333e-06\n",
      "420 6.761898475815542e-06\n",
      "421 6.346595000650268e-06\n",
      "422 5.955227152298903e-06\n",
      "423 5.589251031778986e-06\n",
      "424 5.2449145186983515e-06\n",
      "425 4.920743322145427e-06\n",
      "426 4.617682407115353e-06\n",
      "427 4.332189291744726e-06\n",
      "428 4.0637942220200785e-06\n",
      "429 3.812582235696027e-06\n",
      "430 3.57648514182074e-06\n",
      "431 3.354528189447592e-06\n",
      "432 3.146428525724332e-06\n",
      "433 2.9507698400266236e-06\n",
      "434 2.767484829746536e-06\n",
      "435 2.59481703324127e-06\n",
      "436 2.4326332095370162e-06\n",
      "437 2.2818496745458106e-06\n",
      "438 2.139143134627375e-06\n",
      "439 2.0059542293893173e-06\n",
      "440 1.8799705685523804e-06\n",
      "441 1.7629390640649945e-06\n",
      "442 1.6524139709872543e-06\n",
      "443 1.548882437418797e-06\n",
      "444 1.4512245343212271e-06\n",
      "445 1.360345436296484e-06\n",
      "446 1.275097815778281e-06\n",
      "447 1.194357992062578e-06\n",
      "448 1.1195019169463194e-06\n",
      "449 1.0490764452697476e-06\n",
      "450 9.829233249547542e-07\n",
      "451 9.206759159496869e-07\n",
      "452 8.628524028608808e-07\n",
      "453 8.083247280410433e-07\n",
      "454 7.573382276859775e-07\n",
      "455 7.093847216310678e-07\n",
      "456 6.641429877163318e-07\n",
      "457 6.221176818144158e-07\n",
      "458 5.829206202179193e-07\n",
      "459 5.46089665931504e-07\n",
      "460 5.112693202136143e-07\n",
      "461 4.789104650626541e-07\n",
      "462 4.4856668068860017e-07\n",
      "463 4.1982983134403185e-07\n",
      "464 3.9316296351898927e-07\n",
      "465 3.6833051808571327e-07\n",
      "466 3.44464211821105e-07\n",
      "467 3.2258171245302947e-07\n",
      "468 3.021820589310664e-07\n",
      "469 2.826994887072942e-07\n",
      "470 2.648074826083757e-07\n",
      "471 2.478318208432029e-07\n",
      "472 2.3196464837837993e-07\n",
      "473 2.1722810572555318e-07\n",
      "474 2.0322083571500116e-07\n",
      "475 1.9046379406972846e-07\n",
      "476 1.781853882221185e-07\n",
      "477 1.6668680302700523e-07\n",
      "478 1.5595269076129625e-07\n",
      "479 1.4601820907955698e-07\n",
      "480 1.366972384175824e-07\n",
      "481 1.2790042092092335e-07\n",
      "482 1.1958702827996603e-07\n",
      "483 1.1194030236083563e-07\n",
      "484 1.0475146439148375e-07\n",
      "485 9.80148158191696e-08\n",
      "486 9.16418514407269e-08\n",
      "487 8.583254640370797e-08\n",
      "488 8.03003814553449e-08\n",
      "489 7.512473843007683e-08\n",
      "490 7.022845949222756e-08\n",
      "491 6.572597754939125e-08\n",
      "492 6.150421683059903e-08\n",
      "493 5.7492741234455025e-08\n",
      "494 5.376795897404918e-08\n",
      "495 5.028424610031834e-08\n",
      "496 4.707410639070986e-08\n",
      "497 4.409597309518176e-08\n",
      "498 4.1232816272440687e-08\n",
      "499 3.858322017435967e-08\n"
     ]
    }
   ],
   "source": [
    "\n",
    "# N is batch size; D_in is input dimension;\n",
    "# H is hidden dimension; D_out is output dimension.\n",
    "N, D_in, H, D_out = 64, 1000, 100, 10\n",
    "\n",
    "# Create random Tensors to hold inputs and outputs\n",
    "x = torch.randn(N, D_in)\n",
    "y = torch.randn(N, D_out)\n",
    "\n",
    "# Use the nn package to define our model and loss function.\n",
    "model = torch.nn.Sequential(\n",
    "    torch.nn.Linear(D_in, H),\n",
    "    torch.nn.ReLU(),\n",
    "    torch.nn.Linear(H, D_out),\n",
    ")\n",
    "loss_fn = torch.nn.MSELoss(reduction='sum')\n",
    "\n",
    "# Use the optim package to define an Optimizer that will update the weights of\n",
    "# the model for us. Here we will use Adam; the optim package contains many other\n",
    "# optimization algoriths. The first argument to the Adam constructor tells the\n",
    "# optimizer which Tensors it should update.\n",
    "learning_rate = 1e-4\n",
    "optimizer = torch.optim.Adam(model.parameters(), lr=learning_rate)\n",
    "for t in range(500):\n",
    "    # Forward pass: compute predicted y by passing x to the model.\n",
    "    y_pred = model(x)\n",
    "\n",
    "    # Compute and print loss.\n",
    "    loss = loss_fn(y_pred, y)\n",
    "    \n",
    "    print(t, loss.item())\n",
    "    # Before the backward pass, use the optimizer object to zero all of the\n",
    "    # gradients for the variables it will update (which are the learnable\n",
    "    # weights of the model). This is because by default, gradients are\n",
    "    # accumulated in buffers( i.e, not overwritten) whenever .backward()\n",
    "    # is called. Checkout docs of torch.autograd.backward for more details.\n",
    "    optimizer.zero_grad()\n",
    "\n",
    "    # Backward pass: compute gradient of the loss with respect to model\n",
    "    # parameters\n",
    "    loss.backward()\n",
    "\n",
    "    # Calling the step function on an Optimizer makes an update to its\n",
    "    # parameters\n",
    "    optimizer.step()"
   ]
  },
  {
   "cell_type": "markdown",
   "metadata": {},
   "source": [
    "### The optimizer in detail"
   ]
  },
  {
   "cell_type": "code",
   "execution_count": 132,
   "metadata": {},
   "outputs": [],
   "source": [
    "# N is batch size; D_in is input dimension;\n",
    "# H is hidden dimension; D_out is output dimension.\n",
    "N, D_in, D_out = 64, 1, 1\n",
    "\n",
    "# Create random Tensors to hold inputs and outputs\n",
    "x = torch.randn(N, D_in)\n",
    "y = torch.randn(N, D_out)"
   ]
  },
  {
   "cell_type": "code",
   "execution_count": 133,
   "metadata": {},
   "outputs": [],
   "source": [
    "# Let's define a simple predefined linear model (no activation funcion)\n",
    "model = nn.Linear(in_features=1, out_features=1, bias=True)"
   ]
  },
  {
   "cell_type": "markdown",
   "metadata": {},
   "source": [
    "At the beginning the values are random "
   ]
  },
  {
   "cell_type": "code",
   "execution_count": 134,
   "metadata": {},
   "outputs": [
    {
     "data": {
      "text/plain": [
       "(Parameter containing:\n",
       " tensor([[0.1576]], requires_grad=True), Parameter containing:\n",
       " tensor([0.9721], requires_grad=True))"
      ]
     },
     "execution_count": 134,
     "metadata": {},
     "output_type": "execute_result"
    }
   ],
   "source": [
    "model.weight, model.bias"
   ]
  },
  {
   "cell_type": "markdown",
   "metadata": {},
   "source": [
    "Now let's choose the loss fuction and the optimizer. We will choose mean square error for the loss and SGD as optimizer"
   ]
  },
  {
   "cell_type": "code",
   "execution_count": 135,
   "metadata": {},
   "outputs": [],
   "source": [
    "### Choose loss function and optimizer\n",
    "loss_function = nn.MSELoss()\n",
    "optimizer = optim.Adam(model.parameters(), lr=0.1)"
   ]
  },
  {
   "cell_type": "markdown",
   "metadata": {},
   "source": [
    "Let's update the weights"
   ]
  },
  {
   "cell_type": "code",
   "execution_count": 136,
   "metadata": {},
   "outputs": [],
   "source": [
    "# Zero gradients (just in case)\n",
    "optimizer.zero_grad()\n",
    "\n",
    "# Forward pass, calculate predictions\n",
    "y_train_hat = model(x)"
   ]
  },
  {
   "cell_type": "code",
   "execution_count": 137,
   "metadata": {},
   "outputs": [],
   "source": [
    "loss = loss_function(y_train_hat, y)"
   ]
  },
  {
   "cell_type": "markdown",
   "metadata": {},
   "source": [
    "#### Weights before"
   ]
  },
  {
   "cell_type": "code",
   "execution_count": 138,
   "metadata": {},
   "outputs": [
    {
     "data": {
      "text/plain": [
       "(Parameter containing:\n",
       " tensor([[0.1576]], requires_grad=True), Parameter containing:\n",
       " tensor([0.9721], requires_grad=True))"
      ]
     },
     "execution_count": 138,
     "metadata": {},
     "output_type": "execute_result"
    }
   ],
   "source": [
    "model.weight, model.bias"
   ]
  },
  {
   "cell_type": "markdown",
   "metadata": {},
   "source": [
    "#### Weights after"
   ]
  },
  {
   "cell_type": "code",
   "execution_count": 139,
   "metadata": {},
   "outputs": [
    {
     "data": {
      "text/plain": [
       "(Parameter containing:\n",
       " tensor([[0.1576]], requires_grad=True), Parameter containing:\n",
       " tensor([0.9721], requires_grad=True))"
      ]
     },
     "execution_count": 139,
     "metadata": {},
     "output_type": "execute_result"
    }
   ],
   "source": [
    "## Backward propagation\n",
    "loss.backward()\n",
    "model.weight, model.bias"
   ]
  },
  {
   "cell_type": "code",
   "execution_count": 140,
   "metadata": {},
   "outputs": [
    {
     "data": {
      "text/plain": [
       "(Parameter containing:\n",
       " tensor([[0.0576]], requires_grad=True), Parameter containing:\n",
       " tensor([0.8721], requires_grad=True))"
      ]
     },
     "execution_count": 140,
     "metadata": {},
     "output_type": "execute_result"
    }
   ],
   "source": [
    "## Upade weights\n",
    "optimizer.step()\n",
    "model.weight, model.bias\n"
   ]
  },
  {
   "cell_type": "code",
   "execution_count": null,
   "metadata": {},
   "outputs": [],
   "source": [
    "# EXERCISE 1\n",
    "#### Check the value of the gradient hold in the weigth and bias tensors at each stem\n",
    "\n",
    "### Your code here"
   ]
  },
  {
   "cell_type": "code",
   "execution_count": null,
   "metadata": {},
   "outputs": [],
   "source": []
  },
  {
   "cell_type": "code",
   "execution_count": null,
   "metadata": {},
   "outputs": [],
   "source": [
    "# Exercise 2\n",
    "# Train the model LinearNN() and your custom one using 4 different optimizers and compare the evolution of\n",
    "# the loss over the iterations of the training procedure. you can reuse the model definition as well as the\n",
    "# training function, which outputs the training loss at the different time steps.\n",
    "# Look for the effect of the learnign rate"
   ]
  },
  {
   "cell_type": "code",
   "execution_count": 213,
   "metadata": {},
   "outputs": [],
   "source": [
    "training_loss_rms = training_loss"
   ]
  },
  {
   "cell_type": "code",
   "execution_count": 214,
   "metadata": {},
   "outputs": [
    {
     "data": {
      "image/png": "[encoded data removed]",
      "text/plain": [
       "<Figure size 432x288 with 1 Axes>"
      ]
     },
     "metadata": {},
     "output_type": "display_data"
    }
   ],
   "source": [
    "# This code can help you generate a starting image\n",
    "plt.figure\n",
    "iter_num = np.arange(0,6000,1000)\n",
    "plt.plot(iter_num, training_loss_adam, label='Adam')\n",
    "plt.plot(iter_num, training_loss_rms, label='RMSProp')\n",
    "plt.plot(iter_num, training_loss_sdg, label='SGD')\n",
    "plt.legend()\n",
    "plt.xlabel('loss')\n",
    "plt.xlabel('iterations')\n",
    "plt.show()"
   ]
  },
  {
   "cell_type": "markdown",
   "metadata": {},
   "source": [
    "# Keeping Track of Trainning with Tensorboard\n",
    "Next, we implement a MNIST classifier using a simple neural network and visualize the training process using TensorBoard. In training phase, we plot the loss and accuracy functions through scalar_summary. In addition, we visualize the weight and gradient values of the parameters of the neural network using histogram_summary. PyTorch code for handling these summary functions can be found here."
   ]
  },
  {
   "cell_type": "code",
   "execution_count": 40,
   "metadata": {},
   "outputs": [],
   "source": [
    "import torch\n",
    "import torch.nn as nn\n",
    "import torchvision\n",
    "from torchvision import transforms\n",
    "import logging\n",
    "\n",
    "### Load dataset and DataLoader\n",
    "# Fashion MNIST dataset \n",
    "## Your code here\n",
    "\n",
    "# Data loader\n",
    "data_loader = torch.utils.data.DataLoader(train_dataset, batch_size=batch_size, shuffle=True)\n",
    "\n",
    "# Fully connected neural network model\n",
    "model = LinearNN().to(device)\n",
    "\n",
    "# Loss and optimizer\n",
    "criterion = nn.CrossEntropyLoss()  \n",
    "optimizer = torch.optim.Adam(model.parameters(), lr=0.00001)  "
   ]
  },
  {
   "cell_type": "code",
   "execution_count": 41,
   "metadata": {},
   "outputs": [],
   "source": [
    "logging = logging.Logger('./logs')"
   ]
  },
  {
   "cell_type": "code",
   "execution_count": 44,
   "metadata": {},
   "outputs": [
    {
     "name": "stdout",
     "output_type": "stream",
     "text": [
      "Step [500/50000], Loss: 1.3158, Acc: 0.62\n",
      "Step [1000/50000], Loss: 0.4983, Acc: 0.88\n",
      "Step [1500/50000], Loss: 0.8131, Acc: 0.69\n",
      "Step [2000/50000], Loss: 0.9555, Acc: 0.69\n",
      "Step [2500/50000], Loss: 0.9999, Acc: 0.56\n",
      "Step [3000/50000], Loss: 0.7362, Acc: 0.81\n",
      "Step [3500/50000], Loss: 0.8726, Acc: 0.75\n",
      "Step [4000/50000], Loss: 0.6197, Acc: 0.81\n",
      "Step [4500/50000], Loss: 0.8042, Acc: 0.62\n",
      "Step [5000/50000], Loss: 0.3958, Acc: 0.88\n",
      "Step [5500/50000], Loss: 0.4921, Acc: 0.88\n",
      "Step [6000/50000], Loss: 0.5424, Acc: 0.81\n",
      "Step [6500/50000], Loss: 0.4802, Acc: 0.75\n",
      "Step [7000/50000], Loss: 1.0040, Acc: 0.62\n",
      "Step [7500/50000], Loss: 0.5882, Acc: 0.88\n",
      "Step [8000/50000], Loss: 0.8116, Acc: 0.75\n",
      "Step [8500/50000], Loss: 0.7884, Acc: 0.75\n",
      "Step [9000/50000], Loss: 0.6447, Acc: 0.75\n",
      "Step [9500/50000], Loss: 0.6891, Acc: 0.69\n",
      "Step [10000/50000], Loss: 0.6748, Acc: 0.75\n",
      "Step [10500/50000], Loss: 1.0794, Acc: 0.44\n",
      "Step [11000/50000], Loss: 0.5521, Acc: 0.81\n",
      "Step [11500/50000], Loss: 0.3528, Acc: 0.94\n",
      "Step [12000/50000], Loss: 0.9480, Acc: 0.75\n",
      "Step [12500/50000], Loss: 0.6196, Acc: 0.81\n",
      "Step [13000/50000], Loss: 0.5822, Acc: 0.88\n",
      "Step [13500/50000], Loss: 0.7470, Acc: 0.69\n",
      "Step [14000/50000], Loss: 0.6958, Acc: 0.69\n",
      "Step [14500/50000], Loss: 0.7269, Acc: 0.75\n",
      "Step [15000/50000], Loss: 0.5173, Acc: 0.75\n",
      "Step [15500/50000], Loss: 0.5773, Acc: 0.81\n"
     ]
    },
    {
     "ename": "KeyboardInterrupt",
     "evalue": "",
     "output_type": "error",
     "traceback": [
      "\u001b[0;31m---------------------------------------------------------------------------\u001b[0m",
      "\u001b[0;31mKeyboardInterrupt\u001b[0m                         Traceback (most recent call last)",
      "\u001b[0;32m<ipython-input-44-964d750b5e29>\u001b[0m in \u001b[0;36m<module>\u001b[0;34m()\u001b[0m\n\u001b[1;32m     12\u001b[0m \u001b[0;34m\u001b[0m\u001b[0m\n\u001b[1;32m     13\u001b[0m     \u001b[0;31m# Fetch images and labels\u001b[0m\u001b[0;34m\u001b[0m\u001b[0;34m\u001b[0m\u001b[0m\n\u001b[0;32m---> 14\u001b[0;31m     \u001b[0mimages\u001b[0m\u001b[0;34m,\u001b[0m \u001b[0mlabels\u001b[0m \u001b[0;34m=\u001b[0m \u001b[0mnext\u001b[0m\u001b[0;34m(\u001b[0m\u001b[0mdata_iter\u001b[0m\u001b[0;34m)\u001b[0m\u001b[0;34m\u001b[0m\u001b[0m\n\u001b[0m\u001b[1;32m     15\u001b[0m     \u001b[0mimages\u001b[0m\u001b[0;34m,\u001b[0m \u001b[0mlabels\u001b[0m \u001b[0;34m=\u001b[0m \u001b[0mimages\u001b[0m\u001b[0;34m.\u001b[0m\u001b[0mview\u001b[0m\u001b[0;34m(\u001b[0m\u001b[0mimages\u001b[0m\u001b[0;34m.\u001b[0m\u001b[0msize\u001b[0m\u001b[0;34m(\u001b[0m\u001b[0;36m0\u001b[0m\u001b[0;34m)\u001b[0m\u001b[0;34m,\u001b[0m \u001b[0;34m-\u001b[0m\u001b[0;36m1\u001b[0m\u001b[0;34m)\u001b[0m\u001b[0;34m.\u001b[0m\u001b[0mto\u001b[0m\u001b[0;34m(\u001b[0m\u001b[0mdevice\u001b[0m\u001b[0;34m)\u001b[0m\u001b[0;34m,\u001b[0m \u001b[0mlabels\u001b[0m\u001b[0;34m.\u001b[0m\u001b[0mto\u001b[0m\u001b[0;34m(\u001b[0m\u001b[0mdevice\u001b[0m\u001b[0;34m)\u001b[0m\u001b[0;34m\u001b[0m\u001b[0m\n\u001b[1;32m     16\u001b[0m \u001b[0;34m\u001b[0m\u001b[0m\n",
      "\u001b[0;32m/usr/local/lib/python3.5/dist-packages/torch/utils/data/dataloader.py\u001b[0m in \u001b[0;36m__next__\u001b[0;34m(self)\u001b[0m\n\u001b[1;32m    558\u001b[0m         \u001b[0;32mif\u001b[0m \u001b[0mself\u001b[0m\u001b[0;34m.\u001b[0m\u001b[0mnum_workers\u001b[0m \u001b[0;34m==\u001b[0m \u001b[0;36m0\u001b[0m\u001b[0;34m:\u001b[0m  \u001b[0;31m# same-process loading\u001b[0m\u001b[0;34m\u001b[0m\u001b[0m\n\u001b[1;32m    559\u001b[0m             \u001b[0mindices\u001b[0m \u001b[0;34m=\u001b[0m \u001b[0mnext\u001b[0m\u001b[0;34m(\u001b[0m\u001b[0mself\u001b[0m\u001b[0;34m.\u001b[0m\u001b[0msample_iter\u001b[0m\u001b[0;34m)\u001b[0m  \u001b[0;31m# may raise StopIteration\u001b[0m\u001b[0;34m\u001b[0m\u001b[0m\n\u001b[0;32m--> 560\u001b[0;31m             \u001b[0mbatch\u001b[0m \u001b[0;34m=\u001b[0m \u001b[0mself\u001b[0m\u001b[0;34m.\u001b[0m\u001b[0mcollate_fn\u001b[0m\u001b[0;34m(\u001b[0m\u001b[0;34m[\u001b[0m\u001b[0mself\u001b[0m\u001b[0;34m.\u001b[0m\u001b[0mdataset\u001b[0m\u001b[0;34m[\u001b[0m\u001b[0mi\u001b[0m\u001b[0;34m]\u001b[0m \u001b[0;32mfor\u001b[0m \u001b[0mi\u001b[0m \u001b[0;32min\u001b[0m \u001b[0mindices\u001b[0m\u001b[0;34m]\u001b[0m\u001b[0;34m)\u001b[0m\u001b[0;34m\u001b[0m\u001b[0m\n\u001b[0m\u001b[1;32m    561\u001b[0m             \u001b[0;32mif\u001b[0m \u001b[0mself\u001b[0m\u001b[0;34m.\u001b[0m\u001b[0mpin_memory\u001b[0m\u001b[0;34m:\u001b[0m\u001b[0;34m\u001b[0m\u001b[0m\n\u001b[1;32m    562\u001b[0m                 \u001b[0mbatch\u001b[0m \u001b[0;34m=\u001b[0m \u001b[0m_utils\u001b[0m\u001b[0;34m.\u001b[0m\u001b[0mpin_memory\u001b[0m\u001b[0;34m.\u001b[0m\u001b[0mpin_memory_batch\u001b[0m\u001b[0;34m(\u001b[0m\u001b[0mbatch\u001b[0m\u001b[0;34m)\u001b[0m\u001b[0;34m\u001b[0m\u001b[0m\n",
      "\u001b[0;32m/usr/local/lib/python3.5/dist-packages/torch/utils/data/_utils/collate.py\u001b[0m in \u001b[0;36mdefault_collate\u001b[0;34m(batch)\u001b[0m\n\u001b[1;32m     66\u001b[0m     \u001b[0;32melif\u001b[0m \u001b[0misinstance\u001b[0m\u001b[0;34m(\u001b[0m\u001b[0mbatch\u001b[0m\u001b[0;34m[\u001b[0m\u001b[0;36m0\u001b[0m\u001b[0;34m]\u001b[0m\u001b[0;34m,\u001b[0m \u001b[0mcontainer_abcs\u001b[0m\u001b[0;34m.\u001b[0m\u001b[0mSequence\u001b[0m\u001b[0;34m)\u001b[0m\u001b[0;34m:\u001b[0m\u001b[0;34m\u001b[0m\u001b[0m\n\u001b[1;32m     67\u001b[0m         \u001b[0mtransposed\u001b[0m \u001b[0;34m=\u001b[0m \u001b[0mzip\u001b[0m\u001b[0;34m(\u001b[0m\u001b[0;34m*\u001b[0m\u001b[0mbatch\u001b[0m\u001b[0;34m)\u001b[0m\u001b[0;34m\u001b[0m\u001b[0m\n\u001b[0;32m---> 68\u001b[0;31m         \u001b[0;32mreturn\u001b[0m \u001b[0;34m[\u001b[0m\u001b[0mdefault_collate\u001b[0m\u001b[0;34m(\u001b[0m\u001b[0msamples\u001b[0m\u001b[0;34m)\u001b[0m \u001b[0;32mfor\u001b[0m \u001b[0msamples\u001b[0m \u001b[0;32min\u001b[0m \u001b[0mtransposed\u001b[0m\u001b[0;34m]\u001b[0m\u001b[0;34m\u001b[0m\u001b[0m\n\u001b[0m\u001b[1;32m     69\u001b[0m \u001b[0;34m\u001b[0m\u001b[0m\n\u001b[1;32m     70\u001b[0m     \u001b[0;32mraise\u001b[0m \u001b[0mTypeError\u001b[0m\u001b[0;34m(\u001b[0m\u001b[0;34m(\u001b[0m\u001b[0merror_msg_fmt\u001b[0m\u001b[0;34m.\u001b[0m\u001b[0mformat\u001b[0m\u001b[0;34m(\u001b[0m\u001b[0mtype\u001b[0m\u001b[0;34m(\u001b[0m\u001b[0mbatch\u001b[0m\u001b[0;34m[\u001b[0m\u001b[0;36m0\u001b[0m\u001b[0;34m]\u001b[0m\u001b[0;34m)\u001b[0m\u001b[0;34m)\u001b[0m\u001b[0;34m)\u001b[0m\u001b[0;34m)\u001b[0m\u001b[0;34m\u001b[0m\u001b[0m\n",
      "\u001b[0;32m/usr/local/lib/python3.5/dist-packages/torch/utils/data/_utils/collate.py\u001b[0m in \u001b[0;36m<listcomp>\u001b[0;34m(.0)\u001b[0m\n\u001b[1;32m     66\u001b[0m     \u001b[0;32melif\u001b[0m \u001b[0misinstance\u001b[0m\u001b[0;34m(\u001b[0m\u001b[0mbatch\u001b[0m\u001b[0;34m[\u001b[0m\u001b[0;36m0\u001b[0m\u001b[0;34m]\u001b[0m\u001b[0;34m,\u001b[0m \u001b[0mcontainer_abcs\u001b[0m\u001b[0;34m.\u001b[0m\u001b[0mSequence\u001b[0m\u001b[0;34m)\u001b[0m\u001b[0;34m:\u001b[0m\u001b[0;34m\u001b[0m\u001b[0m\n\u001b[1;32m     67\u001b[0m         \u001b[0mtransposed\u001b[0m \u001b[0;34m=\u001b[0m \u001b[0mzip\u001b[0m\u001b[0;34m(\u001b[0m\u001b[0;34m*\u001b[0m\u001b[0mbatch\u001b[0m\u001b[0;34m)\u001b[0m\u001b[0;34m\u001b[0m\u001b[0m\n\u001b[0;32m---> 68\u001b[0;31m         \u001b[0;32mreturn\u001b[0m \u001b[0;34m[\u001b[0m\u001b[0mdefault_collate\u001b[0m\u001b[0;34m(\u001b[0m\u001b[0msamples\u001b[0m\u001b[0;34m)\u001b[0m \u001b[0;32mfor\u001b[0m \u001b[0msamples\u001b[0m \u001b[0;32min\u001b[0m \u001b[0mtransposed\u001b[0m\u001b[0;34m]\u001b[0m\u001b[0;34m\u001b[0m\u001b[0m\n\u001b[0m\u001b[1;32m     69\u001b[0m \u001b[0;34m\u001b[0m\u001b[0m\n\u001b[1;32m     70\u001b[0m     \u001b[0;32mraise\u001b[0m \u001b[0mTypeError\u001b[0m\u001b[0;34m(\u001b[0m\u001b[0;34m(\u001b[0m\u001b[0merror_msg_fmt\u001b[0m\u001b[0;34m.\u001b[0m\u001b[0mformat\u001b[0m\u001b[0;34m(\u001b[0m\u001b[0mtype\u001b[0m\u001b[0;34m(\u001b[0m\u001b[0mbatch\u001b[0m\u001b[0;34m[\u001b[0m\u001b[0;36m0\u001b[0m\u001b[0;34m]\u001b[0m\u001b[0;34m)\u001b[0m\u001b[0;34m)\u001b[0m\u001b[0;34m)\u001b[0m\u001b[0;34m)\u001b[0m\u001b[0;34m\u001b[0m\u001b[0m\n",
      "\u001b[0;32m/usr/local/lib/python3.5/dist-packages/torch/utils/data/_utils/collate.py\u001b[0m in \u001b[0;36mdefault_collate\u001b[0;34m(batch)\u001b[0m\n\u001b[1;32m     41\u001b[0m             \u001b[0mstorage\u001b[0m \u001b[0;34m=\u001b[0m \u001b[0mbatch\u001b[0m\u001b[0;34m[\u001b[0m\u001b[0;36m0\u001b[0m\u001b[0;34m]\u001b[0m\u001b[0;34m.\u001b[0m\u001b[0mstorage\u001b[0m\u001b[0;34m(\u001b[0m\u001b[0;34m)\u001b[0m\u001b[0;34m.\u001b[0m\u001b[0m_new_shared\u001b[0m\u001b[0;34m(\u001b[0m\u001b[0mnumel\u001b[0m\u001b[0;34m)\u001b[0m\u001b[0;34m\u001b[0m\u001b[0m\n\u001b[1;32m     42\u001b[0m             \u001b[0mout\u001b[0m \u001b[0;34m=\u001b[0m \u001b[0mbatch\u001b[0m\u001b[0;34m[\u001b[0m\u001b[0;36m0\u001b[0m\u001b[0;34m]\u001b[0m\u001b[0;34m.\u001b[0m\u001b[0mnew\u001b[0m\u001b[0;34m(\u001b[0m\u001b[0mstorage\u001b[0m\u001b[0;34m)\u001b[0m\u001b[0;34m\u001b[0m\u001b[0m\n\u001b[0;32m---> 43\u001b[0;31m         \u001b[0;32mreturn\u001b[0m \u001b[0mtorch\u001b[0m\u001b[0;34m.\u001b[0m\u001b[0mstack\u001b[0m\u001b[0;34m(\u001b[0m\u001b[0mbatch\u001b[0m\u001b[0;34m,\u001b[0m \u001b[0;36m0\u001b[0m\u001b[0;34m,\u001b[0m \u001b[0mout\u001b[0m\u001b[0;34m=\u001b[0m\u001b[0mout\u001b[0m\u001b[0;34m)\u001b[0m\u001b[0;34m\u001b[0m\u001b[0m\n\u001b[0m\u001b[1;32m     44\u001b[0m     \u001b[0;32melif\u001b[0m \u001b[0melem_type\u001b[0m\u001b[0;34m.\u001b[0m\u001b[0m__module__\u001b[0m \u001b[0;34m==\u001b[0m \u001b[0;34m'numpy'\u001b[0m \u001b[0;32mand\u001b[0m \u001b[0melem_type\u001b[0m\u001b[0;34m.\u001b[0m\u001b[0m__name__\u001b[0m \u001b[0;34m!=\u001b[0m \u001b[0;34m'str_'\u001b[0m\u001b[0;31m \u001b[0m\u001b[0;31m\\\u001b[0m\u001b[0;34m\u001b[0m\u001b[0m\n\u001b[1;32m     45\u001b[0m             \u001b[0;32mand\u001b[0m \u001b[0melem_type\u001b[0m\u001b[0;34m.\u001b[0m\u001b[0m__name__\u001b[0m \u001b[0;34m!=\u001b[0m \u001b[0;34m'string_'\u001b[0m\u001b[0;34m:\u001b[0m\u001b[0;34m\u001b[0m\u001b[0m\n",
      "\u001b[0;31mKeyboardInterrupt\u001b[0m: "
     ]
    }
   ],
   "source": [
    "\n",
    "data_iter = iter(data_loader)\n",
    "iter_per_epoch = len(data_loader)\n",
    "total_step = 50000\n",
    "\n",
    "# Start training\n",
    "for step in range(total_step):\n",
    "    \n",
    "    # Reset the data_iter\n",
    "    if (step+1) % iter_per_epoch == 0:\n",
    "        data_iter = iter(data_loader)\n",
    "\n",
    "    # Fetch images and labels\n",
    "    images, labels = next(data_iter)\n",
    "    images, labels = images.view(images.size(0), -1).to(device), labels.to(device)\n",
    "    \n",
    "    # Forward pass\n",
    "    outputs = model(images)\n",
    "    loss = criterion(outputs, labels)\n",
    "    \n",
    "    # Backward and optimize\n",
    "    optimizer.zero_grad()\n",
    "    loss.backward()\n",
    "    optimizer.step()\n",
    "\n",
    "    # Compute accuracy\n",
    "    _, argmax = torch.max(outputs, 1)\n",
    "    accuracy = (labels == argmax.squeeze()).float().mean()\n",
    "\n",
    "    if (step+1) % 500 == 0:\n",
    "        print ('Step [{}/{}], Loss: {:.4f}, Acc: {:.2f}' \n",
    "               .format(step+1, total_step, loss.item(), accuracy.item()))\n",
    "    if (step+1) % 100 == 0:\n",
    "       # print ('Step [{}/{}], Loss: {:.4f}, Acc: {:.2f}' \n",
    "       #        .format(step+1, total_step, loss.item(), accuracy.item()))\n",
    "\n",
    "        # ================================================================== #\n",
    "        #                        Tensorboard Logging                         #\n",
    "        # ================================================================== #\n",
    "\n",
    "        # 1. Log scalar values (scalar summary)\n",
    "        info = { 'loss': loss.item(), 'accuracy': accuracy.item() }\n",
    "\n",
    "        for tag, value in info.items():\n",
    "            logging.info(tag, value, step+1)\n",
    "\n",
    "        # 2. Log values and gradients of the parameters (histogram summary)\n",
    "        for tag, value in model.named_parameters():\n",
    "            tag = tag.replace('.', '/')\n",
    "            logging.info(tag, value.data.cpu().numpy(), step+1)\n",
    "            logging.info(tag+'/grad', value.grad.data.cpu().numpy(), step+1)\n"
   ]
  },
  {
   "cell_type": "markdown",
   "metadata": {},
   "source": [
    "To run the TensorBoard, open a new terminal and run the command below. Then, open http://localhost:6006/ on your web browser.\n",
    "\n",
    "```$ tensorboard --logdir='./logs' --port=6006```"
   ]
  },
  {
   "cell_type": "code",
   "execution_count": 83,
   "metadata": {},
   "outputs": [],
   "source": [
    "batch_size = 16\n",
    "def train_reg(n_epochs):\n",
    "    \n",
    "    loss_over_time = [] # to track the loss as the network trains\n",
    "    \n",
    "    for epoch in range(n_epochs):  # loop over the dataset multiple times\n",
    "        \n",
    "        running_loss = 0.0\n",
    "        \n",
    "        for batch_i, data in enumerate(train_loader):\n",
    "            # get the input images and their corresponding labels\n",
    "            inputs, labels = data\n",
    "\n",
    "            # zero the parameter (weight) gradients\n",
    "            optimizer.zero_grad()\n",
    "\n",
    "            # forward pass to get outputs\n",
    "            outputs = model(inputs)\n",
    "\n",
    "            # calculate the loss\n",
    "            loss = criterion(outputs, labels)\n",
    "            reg_loss = L1Regularizer(model).regularized_all_param(loss)\n",
    "            # backward pass to calculate the parameter gradients\n",
    "            reg_loss.backward()\n",
    "\n",
    "            # update the parameters\n",
    "            optimizer.step()\n",
    "\n",
    "            # print loss statistics\n",
    "            # to convert loss into a scalar and add it to running_loss, we use .item()\n",
    "            running_loss += reg_loss.item()\n",
    "            \n",
    "            if batch_i % 1000 == 999:    # print every 1000 batches\n",
    "                avg_loss = running_loss/1000\n",
    "                # record and print the avg loss over the 1000 batches\n",
    "                loss_over_time.append(avg_loss)\n",
    "                print('Epoch: {}, Batch: {}, Avg. Loss: {}'.format(epoch + 1, batch_i+1, avg_loss))\n",
    "                running_loss = 0.0\n",
    "\n",
    "    print('Finished Training')\n",
    "    return loss_over_time\n"
   ]
  },
  {
   "cell_type": "code",
   "execution_count": 84,
   "metadata": {},
   "outputs": [
    {
     "ename": "NameError",
     "evalue": "name 'L1Regularizer' is not defined",
     "output_type": "error",
     "traceback": [
      "\u001b[0;31m---------------------------------------------------------------------------\u001b[0m",
      "\u001b[0;31mNameError\u001b[0m                                 Traceback (most recent call last)",
      "\u001b[0;32m<ipython-input-84-2e2049042b5a>\u001b[0m in \u001b[0;36m<module>\u001b[0;34m()\u001b[0m\n\u001b[1;32m      4\u001b[0m \u001b[0mmodel\u001b[0m\u001b[0;34m.\u001b[0m\u001b[0mtrain\u001b[0m\u001b[0;34m(\u001b[0m\u001b[0;34m)\u001b[0m \u001b[0;31m# put model in train mode (important with, for example, dropouts, batch normalizations...)\u001b[0m\u001b[0;34m\u001b[0m\u001b[0m\n\u001b[1;32m      5\u001b[0m \u001b[0;34m\u001b[0m\u001b[0m\n\u001b[0;32m----> 6\u001b[0;31m \u001b[0mtraining_loss\u001b[0m \u001b[0;34m=\u001b[0m \u001b[0mtrain_reg\u001b[0m\u001b[0;34m(\u001b[0m\u001b[0mn_epochs\u001b[0m\u001b[0;34m)\u001b[0m \u001b[0;31m# call train and record the loss over time\u001b[0m\u001b[0;34m\u001b[0m\u001b[0m\n\u001b[0m",
      "\u001b[0;32m<ipython-input-83-7d25b992c85f>\u001b[0m in \u001b[0;36mtrain_reg\u001b[0;34m(n_epochs)\u001b[0m\n\u001b[1;32m     20\u001b[0m             \u001b[0;31m# calculate the loss\u001b[0m\u001b[0;34m\u001b[0m\u001b[0;34m\u001b[0m\u001b[0m\n\u001b[1;32m     21\u001b[0m             \u001b[0mloss\u001b[0m \u001b[0;34m=\u001b[0m \u001b[0mcriterion\u001b[0m\u001b[0;34m(\u001b[0m\u001b[0moutputs\u001b[0m\u001b[0;34m,\u001b[0m \u001b[0mlabels\u001b[0m\u001b[0;34m)\u001b[0m\u001b[0;34m\u001b[0m\u001b[0m\n\u001b[0;32m---> 22\u001b[0;31m             \u001b[0mreg_loss\u001b[0m \u001b[0;34m=\u001b[0m \u001b[0mL1Regularizer\u001b[0m\u001b[0;34m(\u001b[0m\u001b[0mmodel\u001b[0m\u001b[0;34m)\u001b[0m\u001b[0;34m.\u001b[0m\u001b[0mregularized_all_param\u001b[0m\u001b[0;34m(\u001b[0m\u001b[0mloss\u001b[0m\u001b[0;34m)\u001b[0m\u001b[0;34m\u001b[0m\u001b[0m\n\u001b[0m\u001b[1;32m     23\u001b[0m             \u001b[0;31m# backward pass to calculate the parameter gradients\u001b[0m\u001b[0;34m\u001b[0m\u001b[0;34m\u001b[0m\u001b[0m\n\u001b[1;32m     24\u001b[0m             \u001b[0mreg_loss\u001b[0m\u001b[0;34m.\u001b[0m\u001b[0mbackward\u001b[0m\u001b[0;34m(\u001b[0m\u001b[0;34m)\u001b[0m\u001b[0;34m\u001b[0m\u001b[0m\n",
      "\u001b[0;31mNameError\u001b[0m: name 'L1Regularizer' is not defined"
     ]
    }
   ],
   "source": [
    "model = LinearNN()\n",
    "n_epochs = 2 # start small to see if your model works, initially\n",
    "\n",
    "model.train() # put model in train mode (important with, for example, dropouts, batch normalizations...)\n",
    "\n",
    "training_loss = train_reg(n_epochs) # call train and record the loss over time"
   ]
  },
  {
   "cell_type": "code",
   "execution_count": null,
   "metadata": {},
   "outputs": [],
   "source": [
    "# initialize tensor and lists to monitor test loss and accuracy\n",
    "test_loss = torch.zeros(1)\n",
    "class_correct = list(0. for i in range(10))\n",
    "class_total = list(0. for i in range(10))\n",
    "\n",
    "# set the module to evaluation mode\n",
    "model.eval()\n",
    "\n",
    "for batch_i, data in enumerate(test_loader):\n",
    "    \n",
    "    # get the input images and their corresponding labels\n",
    "    inputs, labels = data\n",
    "\n",
    "    # forward pass to get outputs\n",
    "    outputs = model(inputs)\n",
    "\n",
    "    # calculate the loss\n",
    "    loss = criterion(outputs, labels)\n",
    "            \n",
    "    # update average test loss \n",
    "    test_loss = test_loss + ((torch.ones(1) / (batch_i + 1)) * (loss.data - test_loss))\n",
    "    \n",
    "    # get the predicted class from the maximum value in the output-list of class scores\n",
    "    _, predicted = torch.max(outputs.data, 1)\n",
    "    \n",
    "    # compare predictions to true label\n",
    "    # this creates a `correct` Tensor that holds the number of correctly classified images in a batch\n",
    "    correct = np.squeeze(predicted.eq(labels.data.view_as(predicted)))\n",
    "    \n",
    "    # calculate test accuracy for *each* object class\n",
    "    # we get the scalar value of correct items for a class, by calling `correct[i].item()`\n",
    "    for i in range(batch_size):\n",
    "        label = labels.data[i]\n",
    "        class_correct[label] += correct[i].item()\n",
    "        class_total[label] += 1\n",
    "\n",
    "print('Test Loss: {:.6f}\\n'.format(test_loss.numpy()[0]))"
   ]
  },
  {
   "cell_type": "code",
   "execution_count": null,
   "metadata": {},
   "outputs": [],
   "source": [
    "for i in range(10):\n",
    "    if class_total[i] > 0:\n",
    "        print('Test Accuracy of %5s: %2d%% (%2d/%2d)' % (\n",
    "            classes[i], 100 * class_correct[i] / class_total[i],\n",
    "            np.sum(class_correct[i]), np.sum(class_total[i])))\n",
    "    else:\n",
    "        print('Test Accuracy of %5s: N/A (no training examples)' % (classes[i]))\n",
    "\n",
    "        \n",
    "print('\\nTest Accuracy (Overall): %2d%% (%2d/%2d)' % (\n",
    "    100. * np.sum(class_correct) / np.sum(class_total),\n",
    "    np.sum(class_correct), np.sum(class_total)))"
   ]
  }
 ],
 "metadata": {
  "kernelspec": {
   "display_name": "Python 3",
   "language": "python",
   "name": "python3"
  },
  "language_info": {
   "codemirror_mode": {
    "name": "ipython",
    "version": 3
   },
   "file_extension": ".py",
   "mimetype": "text/x-python",
   "name": "python",
   "nbconvert_exporter": "python",
   "pygments_lexer": "ipython3",
   "version": "3.5.2"
  }
 },
 "nbformat": 4,
 "nbformat_minor": 2
}
